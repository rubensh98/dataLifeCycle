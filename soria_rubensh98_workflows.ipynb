{
 "cells": [
  {
   "cell_type": "markdown",
   "metadata": {},
   "source": [
    "# Workflow\n",
    "\n",
    "En esta práctica vamos a aplicar lo aprendido en esta asignatura para crear un flujo que automatice la descarga, análisis y publicación de los datos utilizando distintas herramientas como Zenodo, github y librerías de python para el análisis de datos.\n",
    "\n",
    "Para ello, utilizaremos la versión de testing de Zenodo (https://sandbox.zenodo.org/) para evitar problemas de baneo de IPs. También, GitHub para almacenar código que ejecutaremos de forma automática.\n",
    "\n",
    "Antes de empezar, selecciona un dataset sencillo y un script básico que sea capaz de procesar ese dataset. Por ejemplo: Un CSV y un script que haga un plot con los datos y lo guarde como imagen. Puedes coger algo de alguna práctica de otra asignatura.\n",
    "\n",
    "### Librerías necesarias para la práctica\n",
    "\n",
    "```python\n",
    "import xml.etree.ElementTree as ET\n",
    "import requests\n",
    "import json\n",
    "import zipfile\n",
    "```\n",
    "\n",
    "### Elementos necesarios\n",
    "* Al menos un fichero CSV\n",
    "* Un script de análisis de datos en CSV (Publicado en Github)\n"
   ]
  },
  {
   "cell_type": "markdown",
   "metadata": {},
   "source": [
    "# Publicación de datos iniciales\n",
    "\n",
    "Utilizando Zenodo (https://sandbox.zenodo.org/), de forma manual, publicar los datos que se vayan a utilizar. En la página principal, una vez logueado (te tendrás que registrar, mejor utilizando tu login de GitHub), en el símbolo +, New upload. Rellena los campos y publica.\n",
    "\n",
    "<div class=\"alert alert-warning\" role=\"alert\" style=\"margin: 10px\">\n",
    "<p>Utilizar Communities para localizar más facilmente los datos</p>\n",
    "</div>\n",
    "\n",
    "Haz un print del DOI que te da al subir el dataset.\n"
   ]
  },
  {
   "cell_type": "code",
   "execution_count": 110,
   "metadata": {},
   "outputs": [
    {
     "name": "stdout",
     "output_type": "stream",
     "text": [
      "DOI: 10.5072/zenodo.23580\n"
     ]
    }
   ],
   "source": [
    "print('DOI: 10.5072/zenodo.23580')"
   ]
  },
  {
   "cell_type": "markdown",
   "metadata": {},
   "source": [
    "# Publicación de script de Análisis\n",
    "\n",
    "Selecciona el script sencillo de análisis que sea capaz de procesar el dataset que has subido. Guardalo en GitHub.\n",
    "\n",
    "Desde tu perfil de usuario en Zenodo (SandBox), selecciona la opción GitHub. Si no lo tienes ya, necesitarás conectar tu usuario de GitHub. Desde allí, te indica cómo puedes generar un objeto digital con su DOI de un repositorio de Github. Entre otras cosas, te lleva a crear una \"release\" de tu código. Una vez está todo, obtendrás un DOI de ese repo. Muéstralo debajo."
   ]
  },
  {
   "cell_type": "code",
   "execution_count": 109,
   "metadata": {},
   "outputs": [
    {
     "name": "stdout",
     "output_type": "stream",
     "text": [
      "DOI: 10.5072/zenodo.23582\n"
     ]
    }
   ],
   "source": [
    "print('DOI: 10.5072/zenodo.23582')"
   ]
  },
  {
   "cell_type": "markdown",
   "metadata": {},
   "source": [
    "# Descarga de datos\n",
    "\n",
    "Desde Zenodo, utilizando los métodos conocidos (OAI-PMH, API)\n",
    "\n",
    "Pista: url+'?verb=ListRecords&set=nombre_set"
   ]
  },
  {
   "cell_type": "code",
   "execution_count": 29,
   "metadata": {},
   "outputs": [],
   "source": [
    "import requests\n",
    "import json\n",
    "import csv\n",
    "from datetime import datetime\n",
    "import xml.etree.cElementTree as ET"
   ]
  },
  {
   "cell_type": "markdown",
   "metadata": {},
   "source": [
    "Un par de funciones para búsqueda"
   ]
  },
  {
   "cell_type": "code",
   "execution_count": 30,
   "metadata": {},
   "outputs": [],
   "source": [
    "def search_dataset(url,oai_set,metadata_format):\n",
    "    \"\"\"Search the datasets identifiers in the defined set\n",
    "        Parameters\n",
    "        ----------\n",
    "        url : string\n",
    "            OAI-PMH endpoint url\n",
    "        oai_set : string\n",
    "            OAI-PMH set where the datasets will be searched\n",
    "        metadata_format : string\n",
    "            Selected metadata format to search\n",
    "        Returns\n",
    "        -------\n",
    "        dataset_ids : array \n",
    "            Dataset IDs\n",
    "    \"\"\"\n",
    "    #Define bounds to search in specific set\n",
    "    bounds = \"&set=\"+oai_set\n",
    "    oai = requests.get(url+'?verb=ListRecords&metadataPrefix='+metadata_format+bounds)\n",
    "\n",
    "    oaiTree = ET.ElementTree(ET.fromstring(oai.text.encode('utf-8')))\n",
    "    item = oaiTree.findall('.//{http://datacite.org/schema/kernel-3}identifier')\n",
    "    return item"
   ]
  },
  {
   "cell_type": "code",
   "execution_count": 31,
   "metadata": {},
   "outputs": [],
   "source": [
    "def get_oai_metadata_formats(url):\n",
    "    \"\"\"Lists the available metadata formats\n",
    "        Parameters\n",
    "        ----------\n",
    "        url : string\n",
    "            OAI-PMH endpoint url\n",
    "        Returns\n",
    "        -------\n",
    "        metadata_formats : \n",
    "            Name of the downloaded file(s).\n",
    "    \"\"\"\n",
    "    metadata_formats = []\n",
    "    oai_verb = '?verb=ListMetadataFormats'\n",
    "    oai = requests.get(url + oai_verb) #Peticion al servidor\n",
    "    xmlTree = ET.ElementTree(ET.fromstring(oai.text))\n",
    "    iterator = xmlTree.iter()\n",
    "    for elem in iterator:\n",
    "        if (elem.tag == '{http://www.openarchives.org/OAI/2.0/}metadataPrefix'):\n",
    "            metadata_formats.append(elem.text)\n",
    "    return metadata_formats"
   ]
  },
  {
   "cell_type": "code",
   "execution_count": 32,
   "metadata": {},
   "outputs": [],
   "source": [
    "def check_dataset(ids,api_url,tipo):\n",
    "    \"\"\"Checks if the available datasets satisfy the dates and location req\n",
    "        Parameters\n",
    "        ----------\n",
    "        ids : array\n",
    "            List of dataset ids\n",
    "        api_url : string\n",
    "            API to get dataset metadata\n",
    "        tipo : string\n",
    "            type of file to download\n",
    "        Returns\n",
    "        -------\n",
    "        downloaded_datasets : array \n",
    "            List of downloaded datasets\n",
    "    \"\"\"\n",
    "    list_of_files = []\n",
    "    for i in ids:\n",
    "        print(\"Checking \" + i)\n",
    "        response = requests.get('https://sandbox.zenodo.org/api/records', params={'q': i.split('.')[-1]})\n",
    "        url_to_check = response.json()['hits']['hits'][0]['links']['latest']\n",
    "        headers = {'accept': 'application/json', 'Content-Type': 'application/json'}\n",
    "        metadata = requests.get(url_to_check, headers=headers)\n",
    "        for e in metadata.json()['files']:\n",
    "            print(e)\n",
    "            if (\".%s\" % tipo) in e['key']:\n",
    "                file_name = e['key'].replace('/','_')\n",
    "                list_of_files.append(file_name)\n",
    "                link = e['links']['self']\n",
    "                with open(file_name, \"wb\") as f:\n",
    "                    print(\"Downloading %s\" % file_name)\n",
    "                    response = requests.get(link, stream=True)\n",
    "                    total_length = response.headers.get('content-length')\n",
    "                    if total_length is None: # no content length header\n",
    "                        f.write(response.content)\n",
    "                    else:\n",
    "                        dl = 0\n",
    "                        total_length = int(total_length)\n",
    "                        for data in response.iter_content(chunk_size=4096):\n",
    "                            dl += len(data)\n",
    "                            f.write(data)\n",
    "                            done = int(50 * dl / total_length)\n",
    "                            sys.stdout.write(\"\\r[%s%s]\" % ('=' * done, ' ' * (50-done)) )    \n",
    "                            sys.stdout.flush()\n",
    "      \n",
    "    return list_of_files"
   ]
  },
  {
   "cell_type": "markdown",
   "metadata": {},
   "source": [
    "Busco el dataset y el código publicado. Si no lo localizas con OAI-PMH, puedes introducir directamente los DOIs."
   ]
  },
  {
   "cell_type": "code",
   "execution_count": 34,
   "metadata": {},
   "outputs": [
    {
     "name": "stdout",
     "output_type": "stream",
     "text": [
      "Searching datasets OAI-PMH\n",
      "Searching Datasets\n",
      "[]\n",
      "Checking/download Datasets\n",
      "Checking 10.5072/zenodo.23582\n",
      "{'id': '90b9f650-a665-4feb-9c81-ec2a755b20b3', 'key': 'rubensh98/script-python-csv-v1.0.0.zip', 'size': 724, 'checksum': 'md5:32c72d5ce451073b7675b8ea5c43ebc6', 'links': {'self': 'https://sandbox.zenodo.org/api/records/23582/files/rubensh98/script-python-csv-v1.0.0.zip/content'}}\n",
      "Checking 10.5072/zenodo.23582\n",
      "{'id': '90b9f650-a665-4feb-9c81-ec2a755b20b3', 'key': 'rubensh98/script-python-csv-v1.0.0.zip', 'size': 724, 'checksum': 'md5:32c72d5ce451073b7675b8ea5c43ebc6', 'links': {'self': 'https://sandbox.zenodo.org/api/records/23582/files/rubensh98/script-python-csv-v1.0.0.zip/content'}}\n",
      "[]\n",
      "Checking 10.5072/zenodo.23582\n",
      "{'id': '90b9f650-a665-4feb-9c81-ec2a755b20b3', 'key': 'rubensh98/script-python-csv-v1.0.0.zip', 'size': 724, 'checksum': 'md5:32c72d5ce451073b7675b8ea5c43ebc6', 'links': {'self': 'https://sandbox.zenodo.org/api/records/23582/files/rubensh98/script-python-csv-v1.0.0.zip/content'}}\n",
      "Downloading rubensh98_script-python-csv-v1.0.0.zip\n",
      "[==================================================]Checking 10.5072/zenodo.23582\n",
      "{'id': '90b9f650-a665-4feb-9c81-ec2a755b20b3', 'key': 'rubensh98/script-python-csv-v1.0.0.zip', 'size': 724, 'checksum': 'md5:32c72d5ce451073b7675b8ea5c43ebc6', 'links': {'self': 'https://sandbox.zenodo.org/api/records/23582/files/rubensh98/script-python-csv-v1.0.0.zip/content'}}\n",
      "Downloading rubensh98_script-python-csv-v1.0.0.zip\n",
      "[==================================================]['rubensh98_script-python-csv-v1.0.0.zip', 'rubensh98_script-python-csv-v1.0.0.zip']\n"
     ]
    }
   ],
   "source": [
    "import sys\n",
    "#Searching datasets OAI-PMH\n",
    "print(\"Searching datasets OAI-PMH\")\n",
    "oai_url = 'https://sandbox.zenodo.org/oai2d'\n",
    "metadata_formats = get_oai_metadata_formats(oai_url)\n",
    "\n",
    "#TODO hardcoded\n",
    "print(\"Searching Datasets\")\n",
    "oai_set = 'user-cdp'\n",
    "dataset_list = search_dataset(oai_url,oai_set,'oai_datacite3')\n",
    "print(dataset_list)\n",
    "\n",
    "print(\"Checking/download Datasets\")\n",
    "api_url = 'https://sandbox.zenodo.org/'\n",
    "\n",
    "dataset_list = [\"10.5072/zenodo.23582\", \"10.5072/zenodo.23582\"] #Esto lo tienes que cambiar ;)\n",
    "\n",
    "csv_files = check_dataset(dataset_list,api_url,'csv')\n",
    "print(csv_files)\n",
    "\n",
    "zip_files = check_dataset(dataset_list,api_url,'zip')\n",
    "print(zip_files)"
   ]
  },
  {
   "cell_type": "markdown",
   "metadata": {},
   "source": [
    "Descomprime el código, que viene en un zip (tienes que cambiar los nombres)"
   ]
  },
  {
   "cell_type": "code",
   "execution_count": 35,
   "metadata": {},
   "outputs": [
    {
     "data": {
      "text/plain": [
       "1"
      ]
     },
     "execution_count": 35,
     "metadata": {},
     "output_type": "execute_result"
    }
   ],
   "source": [
    "import zipfile\n",
    "import os\n",
    "with zipfile.ZipFile(\"rubensh98_script-python-csv-v1.0.0.zip\", 'r') as zip_ref:\n",
    "    zip_ref.extractall(\".\")\n",
    "os.system(\"mv ./rubensh98_script-python-csv-v1.0.0/* .\")"
   ]
  },
  {
   "cell_type": "markdown",
   "metadata": {},
   "source": [
    "Haz algo con el dataset, mostrarlo de algún modo."
   ]
  },
  {
   "cell_type": "code",
   "execution_count": 43,
   "metadata": {},
   "outputs": [
    {
     "data": {
      "image/png": "[encoded data removed]",
      "text/plain": [
       "<Figure size 640x480 with 1 Axes>"
      ]
     },
     "metadata": {},
     "output_type": "display_data"
    }
   ],
   "source": [
    "import pandas as pd\n",
    "import matplotlib.pyplot as plt\n",
    "\n",
    "data = pd.read_csv('EmpresasIndustria_2012_2022.csv',delimiter=',')\n",
    "plt.plot(data.iloc[:,0], data.iloc[:,1])\n",
    "plt.show()"
   ]
  },
  {
   "cell_type": "code",
   "execution_count": 45,
   "metadata": {},
   "outputs": [
    {
     "data": {
      "image/png": "[encoded data removed]",
      "text/plain": [
       "<Figure size 640x480 with 1 Axes>"
      ]
     },
     "metadata": {},
     "output_type": "display_data"
    }
   ],
   "source": [
    "%run -i analisis-csv.py"
   ]
  },
  {
   "cell_type": "code",
   "execution_count": 46,
   "metadata": {},
   "outputs": [
    {
     "name": "stdout",
     "output_type": "stream",
     "text": [
      " El volumen de la unidad C no tiene etiqueta.\n",
      " El n�mero de serie del volumen es: CE62-6A44\n",
      "\n",
      " Directorio de c:\\Users\\Ruben\\Proyectos\\master\\asignaturas\\data life\\Workflows\n",
      "\n",
      "23/01/2024  21:04    <DIR>          .\n",
      "23/01/2024  21:04    <DIR>          ..\n",
      "23/01/2024  21:00         4.275.737 amt_2010.csv\n",
      "23/01/2024  20:35               444 analisis-csv.py\n",
      "23/01/2024  20:23             4.728 EmpresasIndustria_2012_2022.csv\n",
      "23/01/2024  21:00             5.784 ferag_dlc_metadata_2023-t1.zip\n",
      "23/01/2024  21:09            20.299 industria_anio.png\n",
      "23/01/2024  21:02               724 rubensh98_script-python-csv-v1.0.0.zip\n",
      "23/01/2024  21:04    <DIR>          rubensh98-script-python-csv-6533b41\n",
      "23/01/2024  20:35           132.183 soria_rubensh98_workflows.ipynb\n",
      "               7 archivos      4.439.899 bytes\n",
      "               3 dirs   4.972.122.112 bytes libres\n"
     ]
    }
   ],
   "source": [
    "ls"
   ]
  },
  {
   "cell_type": "markdown",
   "metadata": {},
   "source": [
    "# Publicación de los Datos\n",
    "\n",
    "Utilizando la API de Zenodo SandBox, necesitarás un access token que te permita hacer la publicación. Echa un vistazo a la documentación para ver cómo se consigue. Es fácil...\n",
    "Después, modifica este código para crear un nuevo depósito con el resultado generado (una imagen, un dataset derivado, un texto con el print de los datos...)"
   ]
  },
  {
   "cell_type": "code",
   "execution_count": 92,
   "metadata": {},
   "outputs": [
    {
     "data": {
      "text/plain": [
       "[{'created': '2024-01-23T19:55:35.649054+00:00',\n",
       "  'modified': '2024-01-23T19:55:35.892606+00:00',\n",
       "  'id': 23582,\n",
       "  'conceptrecid': '23581',\n",
       "  'doi': '10.5072/zenodo.23582',\n",
       "  'conceptdoi': '10.5072/zenodo.23581',\n",
       "  'doi_url': 'https://doi.org/10.5072/zenodo.23582',\n",
       "  'metadata': {'title': 'rubensh98/script-python-csv: Script python for csv',\n",
       "   'doi': '10.5072/zenodo.23582',\n",
       "   'publication_date': '2024-01-23',\n",
       "   'description': '<p>Python script for analysys of csv and download plot image.</p>',\n",
       "   'access_right': 'open',\n",
       "   'creators': [{'name': 'rubensh98', 'affiliation': None}],\n",
       "   'related_identifiers': [{'identifier': 'https://github.com/rubensh98/script-python-csv/tree/v1.0.0',\n",
       "     'relation': 'isSupplementTo',\n",
       "     'resource_type': 'software',\n",
       "     'scheme': 'url'}],\n",
       "   'version': 'v1.0.0',\n",
       "   'license': 'cc-by-4.0',\n",
       "   'imprint_publisher': 'Zenodo',\n",
       "   'upload_type': 'software',\n",
       "   'prereserve_doi': {'doi': '10.5281/zenodo.23582', 'recid': 23582}},\n",
       "  'title': 'rubensh98/script-python-csv: Script python for csv',\n",
       "  'links': {'self': 'https://sandbox.zenodo.org/api/records/23582',\n",
       "   'html': 'https://sandbox.zenodo.org/records/23582',\n",
       "   'doi': 'https://doi.org/10.5072/zenodo.23582',\n",
       "   'parent_doi': 'https://sandbox.zenodo.org/doi/10.5072/zenodo.23581',\n",
       "   'badge': 'https://sandbox.zenodo.org/badge/doi/10.5072%2Fzenodo.23582.svg',\n",
       "   'conceptbadge': 'https://sandbox.zenodo.org/badge/doi/10.5072%2Fzenodo.23581.svg',\n",
       "   'files': 'https://sandbox.zenodo.org/api/records/23582/files',\n",
       "   'latest_draft': 'https://sandbox.zenodo.org/api/deposit/depositions/23582',\n",
       "   'latest_draft_html': 'https://sandbox.zenodo.org/deposit/23582',\n",
       "   'publish': 'https://sandbox.zenodo.org/api/deposit/depositions/23582/actions/publish',\n",
       "   'edit': 'https://sandbox.zenodo.org/api/deposit/depositions/23582/actions/edit',\n",
       "   'discard': 'https://sandbox.zenodo.org/api/deposit/depositions/23582/actions/discard',\n",
       "   'newversion': 'https://sandbox.zenodo.org/api/deposit/depositions/23582/actions/newversion',\n",
       "   'registerconceptdoi': 'https://sandbox.zenodo.org/api/deposit/depositions/23582/actions/registerconceptdoi',\n",
       "   'record': 'https://sandbox.zenodo.org/api/records/23582',\n",
       "   'record_html': 'https://sandbox.zenodo.org/record/23582',\n",
       "   'latest': 'https://sandbox.zenodo.org/api/records/23582/versions/latest',\n",
       "   'latest_html': 'https://sandbox.zenodo.org/record/23582/versions/latest'},\n",
       "  'record_id': 23582,\n",
       "  'owner': 2744,\n",
       "  'files': [{'id': '90b9f650-a665-4feb-9c81-ec2a755b20b3',\n",
       "    'filename': 'rubensh98/script-python-csv-v1.0.0.zip',\n",
       "    'filesize': 724,\n",
       "    'checksum': '32c72d5ce451073b7675b8ea5c43ebc6',\n",
       "    'links': {'self': 'https://sandbox.zenodo.org/api/records/23582/files/90b9f650-a665-4feb-9c81-ec2a755b20b3',\n",
       "     'download': 'https://sandbox.zenodo.org/api/records/23582/draft/files/rubensh98/script-python-csv-v1.0.0.zip/content'}}],\n",
       "  'state': 'done',\n",
       "  'submitted': True},\n",
       " {'created': '2024-01-23T19:42:37.569669+00:00',\n",
       "  'modified': '2024-01-23T19:42:37.966502+00:00',\n",
       "  'id': 23580,\n",
       "  'conceptrecid': '23579',\n",
       "  'doi': '10.5072/zenodo.23580',\n",
       "  'conceptdoi': '10.5072/zenodo.23579',\n",
       "  'doi_url': 'https://doi.org/10.5072/zenodo.23580',\n",
       "  'metadata': {'title': 'Dataset empresas and script',\n",
       "   'doi': '10.5072/zenodo.23580',\n",
       "   'publication_date': '2024-01-23',\n",
       "   'access_right': 'open',\n",
       "   'creators': [{'name': 'Ruben', 'affiliation': None}],\n",
       "   'license': 'cc-by-4.0',\n",
       "   'imprint_publisher': 'Zenodo',\n",
       "   'upload_type': 'dataset',\n",
       "   'prereserve_doi': {'doi': '10.5281/zenodo.23580', 'recid': 23580}},\n",
       "  'title': 'Dataset empresas and script',\n",
       "  'links': {'self': 'https://sandbox.zenodo.org/api/records/23580',\n",
       "   'html': 'https://sandbox.zenodo.org/records/23580',\n",
       "   'doi': 'https://doi.org/10.5072/zenodo.23580',\n",
       "   'parent_doi': 'https://sandbox.zenodo.org/doi/10.5072/zenodo.23579',\n",
       "   'badge': 'https://sandbox.zenodo.org/badge/doi/10.5072%2Fzenodo.23580.svg',\n",
       "   'conceptbadge': 'https://sandbox.zenodo.org/badge/doi/10.5072%2Fzenodo.23579.svg',\n",
       "   'files': 'https://sandbox.zenodo.org/api/records/23580/files',\n",
       "   'latest_draft': 'https://sandbox.zenodo.org/api/deposit/depositions/23580',\n",
       "   'latest_draft_html': 'https://sandbox.zenodo.org/deposit/23580',\n",
       "   'publish': 'https://sandbox.zenodo.org/api/deposit/depositions/23580/actions/publish',\n",
       "   'edit': 'https://sandbox.zenodo.org/api/deposit/depositions/23580/actions/edit',\n",
       "   'discard': 'https://sandbox.zenodo.org/api/deposit/depositions/23580/actions/discard',\n",
       "   'newversion': 'https://sandbox.zenodo.org/api/deposit/depositions/23580/actions/newversion',\n",
       "   'registerconceptdoi': 'https://sandbox.zenodo.org/api/deposit/depositions/23580/actions/registerconceptdoi',\n",
       "   'record': 'https://sandbox.zenodo.org/api/records/23580',\n",
       "   'record_html': 'https://sandbox.zenodo.org/record/23580',\n",
       "   'latest': 'https://sandbox.zenodo.org/api/records/23580/versions/latest',\n",
       "   'latest_html': 'https://sandbox.zenodo.org/record/23580/versions/latest'},\n",
       "  'record_id': 23580,\n",
       "  'owner': 2744,\n",
       "  'files': [{'id': '3434ada1-0ff0-45fb-bed3-f6e4c74fc6d9',\n",
       "    'filename': 'analisis-csv.py',\n",
       "    'filesize': 444,\n",
       "    'checksum': '8d20860d03ed76699caa20e3736ff252',\n",
       "    'links': {'self': 'https://sandbox.zenodo.org/api/records/23580/files/3434ada1-0ff0-45fb-bed3-f6e4c74fc6d9',\n",
       "     'download': 'https://sandbox.zenodo.org/api/records/23580/draft/files/analisis-csv.py/content'}},\n",
       "   {'id': 'c64e4263-1280-46e3-8abe-3edc8bdcfe72',\n",
       "    'filename': 'EmpresasIndustria_2012_2022.csv',\n",
       "    'filesize': 4728,\n",
       "    'checksum': '10f14655ba7406bf155a3e52b986618a',\n",
       "    'links': {'self': 'https://sandbox.zenodo.org/api/records/23580/files/c64e4263-1280-46e3-8abe-3edc8bdcfe72',\n",
       "     'download': 'https://sandbox.zenodo.org/api/records/23580/draft/files/EmpresasIndustria_2012_2022.csv/content'}}],\n",
       "  'state': 'done',\n",
       "  'submitted': True}]"
      ]
     },
     "execution_count": 92,
     "metadata": {},
     "output_type": "execute_result"
    }
   ],
   "source": [
    "ACCESS_TOKEN = 'KKqiy8qbhKRocvnd4R7Y23JzWIDJUNacJjYW9lefpT2Gd6i3MHptbGyvkM8k'\n",
    "r = requests.get('https://sandbox.zenodo.org/api/deposit/depositions',params={'access_token': ACCESS_TOKEN})\n",
    "r.status_code\n",
    "r.json()\n"
   ]
  },
  {
   "cell_type": "markdown",
   "metadata": {},
   "source": [
    "En la celda de abajo, tendrás que modificar cosas como el deposition_id (es un id que te dan al hacer el paso anterior, el nombre del fichero...). Echa un vistazo a la documentación, por si falta algo ;)"
   ]
  },
  {
   "cell_type": "code",
   "execution_count": 97,
   "metadata": {},
   "outputs": [
    {
     "data": {
      "text/plain": [
       "{'created': '2024-01-23T21:09:54.650939+00:00',\n",
       " 'modified': '2024-01-23T21:09:54.754018+00:00',\n",
       " 'id': 23586,\n",
       " 'conceptrecid': '23585',\n",
       " 'metadata': {'access_right': 'open',\n",
       "  'prereserve_doi': {'doi': '10.5281/zenodo.23586', 'recid': 23586}},\n",
       " 'title': '',\n",
       " 'links': {'self': 'https://sandbox.zenodo.org/api/deposit/depositions/23586',\n",
       "  'html': 'https://sandbox.zenodo.org/deposit/23586',\n",
       "  'badge': 'https://sandbox.zenodo.org/badge/doi/.svg',\n",
       "  'files': 'https://sandbox.zenodo.org/api/deposit/depositions/23586/files',\n",
       "  'bucket': 'https://sandbox.zenodo.org/api/files/e0c22e60-788d-466f-85c9-0e2f7eca8dae',\n",
       "  'latest_draft': 'https://sandbox.zenodo.org/api/deposit/depositions/23586',\n",
       "  'latest_draft_html': 'https://sandbox.zenodo.org/deposit/23586',\n",
       "  'publish': 'https://sandbox.zenodo.org/api/deposit/depositions/23586/actions/publish',\n",
       "  'edit': 'https://sandbox.zenodo.org/api/deposit/depositions/23586/actions/edit',\n",
       "  'discard': 'https://sandbox.zenodo.org/api/deposit/depositions/23586/actions/discard',\n",
       "  'newversion': 'https://sandbox.zenodo.org/api/deposit/depositions/23586/actions/newversion',\n",
       "  'registerconceptdoi': 'https://sandbox.zenodo.org/api/deposit/depositions/23586/actions/registerconceptdoi'},\n",
       " 'record_id': 23586,\n",
       " 'owner': 2744,\n",
       " 'files': [],\n",
       " 'state': 'unsubmitted',\n",
       " 'submitted': False}"
      ]
     },
     "execution_count": 97,
     "metadata": {},
     "output_type": "execute_result"
    }
   ],
   "source": [
    "headers = {\"Content-Type\": \"application/json\"}\n",
    "params = {'access_token': ACCESS_TOKEN}\n",
    "r = requests.post('https://sandbox.zenodo.org/api/deposit/depositions',\n",
    "                   params=params,\n",
    "                   json={},\n",
    "                   headers=headers)\n",
    "r.status_code\n",
    "# 201\n",
    "r.json()"
   ]
  },
  {
   "cell_type": "code",
   "execution_count": 99,
   "metadata": {},
   "outputs": [
    {
     "data": {
      "text/plain": [
       "{'id': '532c6e22-3b90-4953-8c28-6b3067412977',\n",
       " 'filename': 'grafica_industria.png',\n",
       " 'filesize': 20299.0,\n",
       " 'checksum': 'ae3d257980c51008975a1a5cd3f904f8',\n",
       " 'links': {'self': 'https://sandbox.zenodo.org/api/deposit/depositions/23586/files/532c6e22-3b90-4953-8c28-6b3067412977',\n",
       "  'download': 'https://sandbox.zenodo.org/api/records/23586/draft/files/grafica_industria.png/content'}}"
      ]
     },
     "execution_count": 99,
     "metadata": {},
     "output_type": "execute_result"
    }
   ],
   "source": [
    "deposition_id = r.json()['id']\n",
    "data = {'name': 'grafica_industria.png'}\n",
    "files = {'file': open('industria_anio.png', 'rb')}\n",
    "params = {'access_token': ACCESS_TOKEN}\n",
    "\n",
    "r = requests.post('https://sandbox.zenodo.org/api/deposit/depositions/%s/files' % deposition_id,\n",
    "                  params=params,\n",
    "                  data=data,\n",
    "                  files=files)\n",
    "\n",
    "r.status_code\n",
    "r.json()"
   ]
  },
  {
   "cell_type": "code",
   "execution_count": 100,
   "metadata": {},
   "outputs": [
    {
     "data": {
      "text/plain": [
       "{'created': '2024-01-23T21:09:54.650939+00:00',\n",
       " 'modified': '2024-01-23T21:15:19.422723+00:00',\n",
       " 'id': 23586,\n",
       " 'conceptrecid': '23585',\n",
       " 'metadata': {'title': 'Mi gráfica de nuevo',\n",
       "  'publication_date': '2024-01-23',\n",
       "  'description': 'Antes subí sin querer la imagen',\n",
       "  'access_right': 'open',\n",
       "  'creators': [{'name': 'Ruben', 'affiliation': None}],\n",
       "  'license': 'cc-by-4.0',\n",
       "  'imprint_publisher': 'Zenodo',\n",
       "  'upload_type': 'poster',\n",
       "  'prereserve_doi': {'doi': '10.5281/zenodo.23586', 'recid': 23586}},\n",
       " 'title': 'Mi gráfica de nuevo',\n",
       " 'links': {'self': 'https://sandbox.zenodo.org/api/deposit/depositions/23586',\n",
       "  'html': 'https://sandbox.zenodo.org/deposit/23586',\n",
       "  'badge': 'https://sandbox.zenodo.org/badge/doi/.svg',\n",
       "  'files': 'https://sandbox.zenodo.org/api/deposit/depositions/23586/files',\n",
       "  'bucket': 'https://sandbox.zenodo.org/api/files/e0c22e60-788d-466f-85c9-0e2f7eca8dae',\n",
       "  'thumb250': 'https://sandbox.zenodo.org/record/23586/thumb250',\n",
       "  'thumbs': {'10': 'https://sandbox.zenodo.org/record/23586/thumb10',\n",
       "   '50': 'https://sandbox.zenodo.org/record/23586/thumb50',\n",
       "   '100': 'https://sandbox.zenodo.org/record/23586/thumb100',\n",
       "   '250': 'https://sandbox.zenodo.org/record/23586/thumb250',\n",
       "   '750': 'https://sandbox.zenodo.org/record/23586/thumb750',\n",
       "   '1200': 'https://sandbox.zenodo.org/record/23586/thumb1200'},\n",
       "  'latest_draft': 'https://sandbox.zenodo.org/api/deposit/depositions/23586',\n",
       "  'latest_draft_html': 'https://sandbox.zenodo.org/deposit/23586',\n",
       "  'publish': 'https://sandbox.zenodo.org/api/deposit/depositions/23586/actions/publish',\n",
       "  'edit': 'https://sandbox.zenodo.org/api/deposit/depositions/23586/actions/edit',\n",
       "  'discard': 'https://sandbox.zenodo.org/api/deposit/depositions/23586/actions/discard',\n",
       "  'newversion': 'https://sandbox.zenodo.org/api/deposit/depositions/23586/actions/newversion',\n",
       "  'registerconceptdoi': 'https://sandbox.zenodo.org/api/deposit/depositions/23586/actions/registerconceptdoi'},\n",
       " 'record_id': 23586,\n",
       " 'owner': 2744,\n",
       " 'files': [{'id': '532c6e22-3b90-4953-8c28-6b3067412977',\n",
       "   'filename': 'grafica_industria.png',\n",
       "   'filesize': 20299,\n",
       "   'checksum': 'ae3d257980c51008975a1a5cd3f904f8',\n",
       "   'links': {'self': 'https://sandbox.zenodo.org/api/deposit/depositions/23586/files/532c6e22-3b90-4953-8c28-6b3067412977',\n",
       "    'download': 'https://sandbox.zenodo.org/api/records/23586/draft/files/grafica_industria.png/content'}}],\n",
       " 'state': 'unsubmitted',\n",
       " 'submitted': False}"
      ]
     },
     "execution_count": 100,
     "metadata": {},
     "output_type": "execute_result"
    }
   ],
   "source": [
    "data = {\n",
    "    'metadata': {\n",
    "        'title': 'Mi gráfica de nuevo',\n",
    "        'upload_type': 'poster',\n",
    "        'description': 'Antes subí sin querer la imagen',\n",
    "        'creators': [{'name': 'Ruben',\n",
    "                      'affiliation': ''}]\n",
    "    }\n",
    "}\n",
    "r = requests.put('https://sandbox.zenodo.org/api/deposit/depositions/%s' % deposition_id,\n",
    "                 params={'access_token': ACCESS_TOKEN}, data=json.dumps(data),\n",
    "                 headers=headers)\n",
    "r.status_code\n",
    "r.json()"
   ]
  },
  {
   "cell_type": "markdown",
   "metadata": {},
   "source": [
    "Una vez has publicado el resultado, recibirás un DOI. Muestralo en la última celda:"
   ]
  },
  {
   "cell_type": "code",
   "execution_count": 108,
   "metadata": {},
   "outputs": [
    {
     "name": "stdout",
     "output_type": "stream",
     "text": [
      "DOI: 10.5281/zenodo.23586\n"
     ]
    }
   ],
   "source": [
    "doi = r.json()['metadata']['prereserve_doi']['doi']\n",
    "print('DOI:', doi)"
   ]
  }
 ],
 "metadata": {
  "kernelspec": {
   "display_name": "Python 3 (ipykernel)",
   "language": "python",
   "name": "python3"
  },
  "language_info": {
   "codemirror_mode": {
    "name": "ipython",
    "version": 3
   },
   "file_extension": ".py",
   "mimetype": "text/x-python",
   "name": "python",
   "nbconvert_exporter": "python",
   "pygments_lexer": "ipython3",
   "version": "3.11.7"
  }
 },
 "nbformat": 4,
 "nbformat_minor": 4
}
