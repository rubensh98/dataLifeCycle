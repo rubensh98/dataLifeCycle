{
 "cells": [
  {
   "cell_type": "markdown",
   "metadata": {},
   "source": [
    "# Gestión y uso de Metadatos"
   ]
  },
  {
   "cell_type": "markdown",
   "metadata": {},
   "source": [
    "## Librerías Necesarias"
   ]
  },
  {
   "cell_type": "markdown",
   "metadata": {},
   "source": [
    "xml.etree.ElementTree\n",
    "\n",
    "requests"
   ]
  },
  {
   "cell_type": "code",
   "execution_count": 2,
   "metadata": {},
   "outputs": [],
   "source": [
    "import xml.etree.ElementTree as ET\n",
    "import requests"
   ]
  },
  {
   "cell_type": "markdown",
   "metadata": {},
   "source": [
    "## Metadata attachment"
   ]
  },
  {
   "cell_type": "markdown",
   "metadata": {},
   "source": [
    "En este Notebook descubriremos cómo pueden explotarse metadatos publicados en formatos basados en etiquetas, como XML."
   ]
  },
  {
   "cell_type": "markdown",
   "metadata": {},
   "source": [
    "<img src=\"https://www.republica.com/wp-content/uploads/2017/04/grito.jpg \" width=\"250\">"
   ]
  },
  {
   "cell_type": "markdown",
   "metadata": {},
   "source": [
    "Vamos a empezar por describir un par de objetos, empezando por un cuadro, \"El grito\", de  Edvard Munch.\n",
    "\n",
    "* Title: El Grito\n",
    "* Creator: Edvard Munch\n",
    "* Subject: pintura, cuadro, grito\n",
    "* Description: Cuadro de un hombre gritando en un puente\n",
    "* Publisher: Galería Nacional Noruega\n",
    "* Contributor:\n",
    "* Date: \n",
    "* Type: \n",
    "* Format: \n",
    "* Identifier: \n",
    "* Source: \n",
    "* Language:\n",
    "* Relation:\n",
    "* Coverage:  \n",
    "* Rights:"
   ]
  },
  {
   "cell_type": "markdown",
   "metadata": {},
   "source": [
    "Con Dublin Core también podemos describir datasets científicos. Vamos a probar con:\n",
    "\n",
    "https://zenodo.org/record/3372754#.XcFkhE9Kg5k\n",
    "\n",
    "<div class=\"alert alert-warning\" role=\"alert\" style=\"margin: 10px\">\n",
    "<p>**Consejo**</p>\n",
    "\n",
    "<p>En el propio repositorio puedes encontrar metadatos</p>\n",
    "</div>\n",
    "\n",
    "* Title: \n",
    "* Creator: \n",
    "* Subject:  \n",
    "* Description: \n",
    "* Publisher: \n",
    "* Contributor:\n",
    "* Date: \n",
    "* Type: \n",
    "* Format: \n",
    "* Identifier: \n",
    "* Source: \n",
    "* Language:\n",
    "* Relation:\n",
    "* Coverage:  \n",
    "* Rights:"
   ]
  },
  {
   "cell_type": "markdown",
   "metadata": {},
   "source": [
    "A partir de las descripciones, podemos crear documentos XML que sean interpretables por máquinas (entendiendo máquinas como scripts, software, etc). \n",
    "\n",
    "El grito:\n",
    "  \n",
    "  ```XML\n",
    " <dc:contributor></dc:contributor>\n",
    "  <dc:coverage></dc:coverage>\n",
    "  <dc:creator>Edvard Munch</dc:creator>\n",
    "  <dc:date></dc:date>\n",
    "  <dc:description>Cuadro de un hombre gritando en un puente</dc:description>\n",
    "  <dc:format></dc:format>\n",
    "  <dc:identifier></dc:identifier>\n",
    "  <dc:language></dc:language>\n",
    "  <dc:publisher>Galería Nacional Noruega</dc:publisher>\n",
    "  <dc:relation></dc:relation>\n",
    "  <dc:rights></dc:rights>\n",
    "  <dc:source></dc:source>\n",
    "  <dc:title>El Grito</dc:title>\n",
    "  <dc:type></dc:type>\n",
    "```\n",
    "\n",
    "Dataset:\n",
    "  ```XML\n",
    " <dc:contributor> </dc:contributor>\n",
    "  <dc:coverage> </dc:coverage>\n",
    "  <dc:creator></dc:creator>\n",
    "  <dc:date></dc:date>\n",
    "  <dc:subject></dc:subject>\n",
    "  <dc:description></dc:description>\n",
    "  <dc:format>  </dc:format>\n",
    "  <dc:identifier></dc:identifier>\n",
    "  <dc:language> </dc:language>\n",
    "  <dc:publisher></dc:publisher>\n",
    "  <dc:relation> </dc:relation>\n",
    "  <dc:rights> </dc:rights>\n",
    "  <dc:source> </dc:source>\n",
    "  <dc:title></dc:title>\n",
    "  <dc:type></dc:type>\n",
    "```"
   ]
  },
  {
   "cell_type": "markdown",
   "metadata": {},
   "source": [
    "Ahora vamos a ver cómo podemos manejar estos datos en Python. Para ello, utilizaremos la librería xml.\n",
    "\n",
    "Para crear un documento XML bien formado, es necesario definir dónde está descrito el prefijo Dublin Core o \"dc:\". Para ello, añadimos antes de los datos la siguiente cabecera:\n",
    "\n",
    "```XML\n",
    "<?xml version=\"1.0\" encoding=\"UTF-8\" standalone=\"no\"?><?xml-stylesheet type=\"text/xsl\" href=\"/webservices/catalog/xsl/searchRetrieveResponse.xsl\"?>\n",
    "<searchRetrieveResponse xmlns:oclcterms=\"http://purl.org/oclc/terms/\" xmlns:dc=\"http://purl.org/dc/elements/1.1/\" xmlns:diag=\"http://www.loc.gov/zing/srw/diagnostic/\" xmlns:xsi=\"http://www.w3.org/2001/XMLSchema-instance\">\n",
    "```\n",
    "\n",
    "Sin olvidar añadir al final:\n",
    "\n",
    "```XML\n",
    "</searchRetrieveResponse>\n",
    "```"
   ]
  },
  {
   "cell_type": "code",
   "execution_count": 3,
   "metadata": {},
   "outputs": [
    {
     "data": {
      "text/plain": [
       "<Element 'searchRetrieveResponse' at 0x0000019A4ED08130>"
      ]
     },
     "execution_count": 3,
     "metadata": {},
     "output_type": "execute_result"
    }
   ],
   "source": [
    "import xml.etree.ElementTree as ET\n",
    "dc_xml = '''<?xml version=\"1.0\" encoding=\"UTF-8\" standalone=\"no\"?><?xml-stylesheet type=\"text/xsl\" href=\"/webservices/catalog/xsl/searchRetrieveResponse.xsl\"?>\n",
    "<searchRetrieveResponse xmlns:oclcterms=\"http://purl.org/oclc/terms/\" xmlns:dc=\"http://purl.org/dc/elements/1.1/\" xmlns:diag=\"http://www.loc.gov/zing/srw/diagnostic/\" xmlns:xsi=\"http://www.w3.org/2001/XMLSchema-instance\">\n",
    "\n",
    "\n",
    "     <dc:contributor>Edvard Munch </dc:contributor>\n",
    "  <dc:coverage>Lugar indeterminado</dc:coverage>\n",
    "  <dc:creator>Edvard Munch </dc:creator>\n",
    "  <dc:date>1910</dc:date>\n",
    "  <dc:description>Cuadro...</dc:description>\n",
    "  <dc:format>Oleo sobre carton</dc:format>\n",
    "  <dc:identifier>id_museo_grito</dc:identifier>\n",
    "  <dc:language></dc:language>\n",
    "  <dc:publisher>Galeria nacional de Oslo</dc:publisher>\n",
    "  <dc:relation>cuadro1, cuadro2, cuadro3</dc:relation>\n",
    "  <dc:rights>Acceso al museo</dc:rights>\n",
    "  <dc:source></dc:source>\n",
    "  <dc:title>El grito</dc:title>\n",
    "  <dc:type>Cuadro</dc:type>\n",
    "\n",
    "\n",
    "\n",
    "</searchRetrieveResponse>'''\n",
    "\n",
    "tree = ET.fromstring(dc_xml)\n",
    "tree"
   ]
  },
  {
   "cell_type": "markdown",
   "metadata": {},
   "source": [
    "Si queremos recorrer los elementos del XML que hemos formado, podemos utilizar un bucle, teniendo en cuenta que la información que nos interesa la tenemos en el elemento raíz 'searchRetrieveResponse':"
   ]
  },
  {
   "cell_type": "code",
   "execution_count": 4,
   "metadata": {},
   "outputs": [
    {
     "name": "stdout",
     "output_type": "stream",
     "text": [
      "{http://purl.org/dc/elements/1.1/}contributor Edvard Munch \n",
      "{http://purl.org/dc/elements/1.1/}coverage Lugar indeterminado\n",
      "{http://purl.org/dc/elements/1.1/}creator Edvard Munch \n",
      "{http://purl.org/dc/elements/1.1/}date 1910\n",
      "{http://purl.org/dc/elements/1.1/}description Cuadro...\n",
      "{http://purl.org/dc/elements/1.1/}format Oleo sobre carton\n",
      "{http://purl.org/dc/elements/1.1/}identifier id_museo_grito\n",
      "{http://purl.org/dc/elements/1.1/}language None\n",
      "{http://purl.org/dc/elements/1.1/}publisher Galeria nacional de Oslo\n",
      "{http://purl.org/dc/elements/1.1/}relation cuadro1, cuadro2, cuadro3\n",
      "{http://purl.org/dc/elements/1.1/}rights Acceso al museo\n",
      "{http://purl.org/dc/elements/1.1/}source None\n",
      "{http://purl.org/dc/elements/1.1/}title El grito\n",
      "{http://purl.org/dc/elements/1.1/}type Cuadro\n"
     ]
    }
   ],
   "source": [
    "for table in tree.iter('searchRetrieveResponse'):\n",
    "    for child in table:\n",
    "        print(child.tag, child.text)"
   ]
  },
  {
   "cell_type": "markdown",
   "metadata": {},
   "source": [
    "Observa que, al utilizar el prefijo 'dc:' e indicarle que está descrito en la URL 'http://purl.org/dc/elements/1.1/', la eqtiqueta o \"tag\" aparece como, por ejemplo {URL}contributor.\n",
    "\n",
    "Prueba a mostrar los metadatos que has creado a partir del cuadro y del dataset:"
   ]
  },
  {
   "cell_type": "code",
   "execution_count": 5,
   "metadata": {},
   "outputs": [
    {
     "name": "stdout",
     "output_type": "stream",
     "text": [
      "Edvard Munch \n",
      "Lugar indeterminado\n",
      "Edvard Munch \n",
      "1910\n",
      "Cuadro...\n",
      "Oleo sobre carton\n",
      "id_museo_grito\n",
      "None\n",
      "Galeria nacional de Oslo\n",
      "cuadro1, cuadro2, cuadro3\n",
      "Acceso al museo\n",
      "None\n",
      "El grito\n",
      "Cuadro\n"
     ]
    }
   ],
   "source": [
    "for table in tree.iter('searchRetrieveResponse'):\n",
    "    for child in table:\n",
    "        print(child.text)"
   ]
  },
  {
   "cell_type": "markdown",
   "metadata": {},
   "source": [
    "Utilizando findall() sobre el arbol (tree), podemos encontrar todos los elementos con una etiqueta determinada."
   ]
  },
  {
   "cell_type": "code",
   "execution_count": 6,
   "metadata": {},
   "outputs": [
    {
     "name": "stdout",
     "output_type": "stream",
     "text": [
      "[<Element '{http://purl.org/dc/elements/1.1/}relation' at 0x0000019A4ED0A7A0>]\n"
     ]
    }
   ],
   "source": [
    "relation = tree.findall('{http://purl.org/dc/elements/1.1/}relation')\n",
    "print(relation)"
   ]
  },
  {
   "cell_type": "markdown",
   "metadata": {},
   "source": [
    "Ten en cuenta que lo que encontramos es, en realidad, una parte del documento XML, por lo que hay que iterarlo como antes:"
   ]
  },
  {
   "cell_type": "code",
   "execution_count": 7,
   "metadata": {},
   "outputs": [
    {
     "name": "stdout",
     "output_type": "stream",
     "text": [
      "{http://purl.org/dc/elements/1.1/}relation cuadro1, cuadro2, cuadro3\n"
     ]
    }
   ],
   "source": [
    "for child in relation:\n",
    "    print(child.tag, child.text)"
   ]
  },
  {
   "cell_type": "markdown",
   "metadata": {},
   "source": [
    "XML utiliza prefijos para no necesitar referenciar a la URL de un tipo cada vez, lo podemos ver en la cabecera:\n",
    "\n",
    "```XML\n",
    "<?xml version=\"1.0\" encoding=\"UTF-8\" standalone=\"no\"?><?xml-stylesheet type=\"text/xsl\" href=\"/webservices/catalog/xsl/searchRetrieveResponse.xsl\"?>\n",
    "<searchRetrieveResponse xmlns:oclcterms=\"http://purl.org/oclc/terms/\" xmlns:dc=\"http://purl.org/dc/elements/1.1/\" xmlns:diag=\"http://www.loc.gov/zing/srw/diagnostic/\" xmlns:xsi=\"http://www.w3.org/2001/XMLSchema-instance\">'''\n",
    "```\n",
    "\n",
    "Por ejemplo, cada vez que queremos utilizar un tipo de Dublin Core, utilizamos el prefijo dc: que equivale a llamar a la definición:\n",
    "\n",
    "xmlns:dc=\"http://purl.org/dc/elements/1.1/\"\n",
    "\n",
    "Sin embargo, para utilizar ElementTree en Python, tenemos que utilizar la URL completa. Esto puede resultar un poco engorroso, así que podemos definir el namespace para utilizar también el prefijo:"
   ]
  },
  {
   "cell_type": "code",
   "execution_count": 8,
   "metadata": {},
   "outputs": [
    {
     "data": {
      "text/plain": [
       "'Acceso al museo'"
      ]
     },
     "execution_count": 8,
     "metadata": {},
     "output_type": "execute_result"
    }
   ],
   "source": [
    "namespaces = {'dc': 'http://purl.org/dc/elements/1.1/'} # add more as needed\n",
    "\n",
    "tree.find('dc:rights',namespaces).text"
   ]
  },
  {
   "cell_type": "markdown",
   "metadata": {},
   "source": [
    "Los documentos XML, aparte de las etiquetas y los valores, pueden contener atributos. Dado el siguiente ejemplo, vamos a ver cómo obtener la lista y los valores de los atributos"
   ]
  },
  {
   "cell_type": "code",
   "execution_count": 9,
   "metadata": {},
   "outputs": [],
   "source": [
    "dc_xml = '''<?xml version=\"1.0\" encoding=\"UTF-8\" standalone=\"no\"?><?xml-stylesheet type=\"text/xsl\" href=\"/webservices/catalog/xsl/searchRetrieveResponse.xsl\"?>\n",
    "<searchRetrieveResponse xmlns:oclcterms=\"http://purl.org/oclc/terms/\" xmlns:dc=\"http://purl.org/dc/elements/1.1/\" xmlns:diag=\"http://www.loc.gov/zing/srw/diagnostic/\" xmlns:xsi=\"http://www.w3.org/2001/XMLSchema-instance\">\n",
    "<dc:contributor>asdsadsad</dc:contributor>\n",
    "<dc:coverage>dfsd</dc:coverage>\n",
    "<dc:creator>sadsa</dc:creator>\n",
    "<dc:date>sadas</dc:date>\n",
    "<dc:description atributo1=\"valor1\" atributo2=\"valor2\">sadsa</dc:description>\n",
    "<dc:format>sadasd</dc:format>\n",
    "<dc:identifier>sadsad</dc:identifier>\n",
    "<dc:language>asdasd</dc:language>\n",
    "<dc:publisher>wqewq</dc:publisher>\n",
    "<dc:relation >wqeqw</dc:relation>\n",
    "<dc:rights>ffefe</dc:rights>\n",
    "<dc:source>vfvf</dc:source>\n",
    "<dc:title>wqewqe</dc:title>\n",
    "<dc:type>ewfrb</dc:type>\n",
    "</searchRetrieveResponse>'''\n",
    "\n",
    "tree2 = ET.fromstring(dc_xml)"
   ]
  },
  {
   "cell_type": "code",
   "execution_count": 10,
   "metadata": {},
   "outputs": [
    {
     "data": {
      "text/plain": [
       "{'atributo1': 'valor1', 'atributo2': 'valor2'}"
      ]
     },
     "execution_count": 10,
     "metadata": {},
     "output_type": "execute_result"
    }
   ],
   "source": [
    "tree2.find('dc:description',namespaces).attrib"
   ]
  },
  {
   "cell_type": "markdown",
   "metadata": {},
   "source": [
    "Conociendo los nombres de estos atributos, puedes extraer su valor. Esto serviría para dar una información adicional al contenido de la etiqueta. Por ejemplo, se podría añadir el idioma como atributo en la descripción."
   ]
  },
  {
   "cell_type": "code",
   "execution_count": 11,
   "metadata": {},
   "outputs": [
    {
     "name": "stdout",
     "output_type": "stream",
     "text": [
      "valor1\n",
      "valor2\n"
     ]
    }
   ],
   "source": [
    "print(tree2.find('dc:description',namespaces).attrib['atributo1'])\n",
    "print(tree2.find('dc:description',namespaces).attrib['atributo2'])\n"
   ]
  },
  {
   "cell_type": "markdown",
   "metadata": {},
   "source": [
    "Vamos a analizar un documento XML más complejo, empezando por descargarlo:"
   ]
  },
  {
   "cell_type": "code",
   "execution_count": 12,
   "metadata": {},
   "outputs": [],
   "source": [
    "import requests\n",
    "\n",
    "response = requests.get('https://gist.githubusercontent.com/vivien/580729/raw/651d1b216357c0d7d9fc47075071fb482e11fb36/dublincore-example.xml')\n",
    "if response.status_code == 200:\n",
    "    with open(\"./dublincore-example.xml\", 'wb') as f:\n",
    "        f.write(response.content)"
   ]
  },
  {
   "cell_type": "markdown",
   "metadata": {},
   "source": [
    "<div class=\"alert alert-warning\" role=\"alert\" style=\"margin: 10px\">\n",
    "<p>**Recuerda!**</p>\n",
    "\n",
    "<p>Jupyter permite ejecutar ciertos comandos bash</p>\n",
    "</div>"
   ]
  },
  {
   "cell_type": "code",
   "execution_count": 13,
   "metadata": {},
   "outputs": [
    {
     "name": "stdout",
     "output_type": "stream",
     "text": [
      " El volumen de la unidad C no tiene etiqueta.\n",
      " El n�mero de serie del volumen es: CE62-6A44\n",
      "\n",
      " Directorio de c:\\Users\\Ruben\\Proyectos\\master\\asignaturas\\data life\n",
      "\n",
      "13/11/2023  18:22    <DIR>          .\n",
      "13/11/2023  18:22    <DIR>          ..\n",
      "13/11/2023  18:14            13.595 amt_prototype.xml\n",
      "13/11/2023  18:22             3.072 datacite-example.xml\n",
      "16/11/2023  15:57            19.563 dublincore-example.xml\n",
      "15/11/2023  16:08            81.930 metadataIntro_2023.ipynb\n",
      "               4 archivos        118.160 bytes\n",
      "               2 dirs  20.964.851.712 bytes libres\n"
     ]
    }
   ],
   "source": [
    "ls"
   ]
  },
  {
   "cell_type": "markdown",
   "metadata": {},
   "source": [
    "Y lo cargamos en python:"
   ]
  },
  {
   "cell_type": "code",
   "execution_count": 14,
   "metadata": {},
   "outputs": [
    {
     "name": "stdout",
     "output_type": "stream",
     "text": [
      "{http://www.loc.gov/zing/srw/}version 1.1\n",
      "{http://www.loc.gov/zing/srw/}numberOfRecords 33587\n",
      "{http://www.loc.gov/zing/srw/}records \n",
      "\n",
      "{http://www.loc.gov/zing/srw/}nextRecordPosition 11\n",
      "{http://www.loc.gov/zing/srw/}resultSetIdleTime None\n",
      "{http://www.loc.gov/zing/srw/}echoedSearchRetrieveRequest \n",
      "\n"
     ]
    }
   ],
   "source": [
    "tree = ET.parse('dublincore-example.xml')\n",
    "namespaces = {'dc': 'http://purl.org/dc/elements/1.1/'} # add more as needed\n",
    "for table in tree.iter('{http://www.loc.gov/zing/srw/}searchRetrieveResponse'):\n",
    "    for child in table:\n",
    "        print(child.tag, child.text)"
   ]
  },
  {
   "cell_type": "code",
   "execution_count": 15,
   "metadata": {},
   "outputs": [
    {
     "name": "stdout",
     "output_type": "stream",
     "text": [
      "[<Element '{http://www.loc.gov/zing/srw/}records' at 0x0000019A4ED2C810>]\n"
     ]
    }
   ],
   "source": [
    "all_records = tree.findall('{http://www.loc.gov/zing/srw/}records')\n",
    "print(all_records)"
   ]
  },
  {
   "cell_type": "code",
   "execution_count": 16,
   "metadata": {},
   "outputs": [
    {
     "name": "stdout",
     "output_type": "stream",
     "text": [
      "{http://www.loc.gov/zing/srw/}recordSchema info:srw/schema/1/dc\n",
      "{http://www.loc.gov/zing/srw/}recordPacking xml\n",
      "{http://www.loc.gov/zing/srw/}recordData \n",
      "\n",
      "{http://www.loc.gov/zing/srw/}recordSchema info:srw/schema/1/dc\n",
      "{http://www.loc.gov/zing/srw/}recordPacking xml\n",
      "{http://www.loc.gov/zing/srw/}recordData \n",
      "\n",
      "{http://www.loc.gov/zing/srw/}recordSchema info:srw/schema/1/dc\n",
      "{http://www.loc.gov/zing/srw/}recordPacking xml\n",
      "{http://www.loc.gov/zing/srw/}recordData \n",
      "\n",
      "{http://www.loc.gov/zing/srw/}recordSchema info:srw/schema/1/dc\n",
      "{http://www.loc.gov/zing/srw/}recordPacking xml\n",
      "{http://www.loc.gov/zing/srw/}recordData \n",
      "\n",
      "{http://www.loc.gov/zing/srw/}recordSchema info:srw/schema/1/dc\n",
      "{http://www.loc.gov/zing/srw/}recordPacking xml\n",
      "{http://www.loc.gov/zing/srw/}recordData \n",
      "\n",
      "{http://www.loc.gov/zing/srw/}recordSchema info:srw/schema/1/dc\n",
      "{http://www.loc.gov/zing/srw/}recordPacking xml\n",
      "{http://www.loc.gov/zing/srw/}recordData \n",
      "\n",
      "{http://www.loc.gov/zing/srw/}recordSchema info:srw/schema/1/dc\n",
      "{http://www.loc.gov/zing/srw/}recordPacking xml\n",
      "{http://www.loc.gov/zing/srw/}recordData \n",
      "\n",
      "{http://www.loc.gov/zing/srw/}recordSchema info:srw/schema/1/dc\n",
      "{http://www.loc.gov/zing/srw/}recordPacking xml\n",
      "{http://www.loc.gov/zing/srw/}recordData \n",
      "\n",
      "{http://www.loc.gov/zing/srw/}recordSchema info:srw/schema/1/dc\n",
      "{http://www.loc.gov/zing/srw/}recordPacking xml\n",
      "{http://www.loc.gov/zing/srw/}recordData \n",
      "\n",
      "{http://www.loc.gov/zing/srw/}recordSchema info:srw/schema/1/dc\n",
      "{http://www.loc.gov/zing/srw/}recordPacking xml\n",
      "{http://www.loc.gov/zing/srw/}recordData \n",
      "\n"
     ]
    }
   ],
   "source": [
    "for table in tree.iter('{http://www.loc.gov/zing/srw/}record'):\n",
    "    for child in table:\n",
    "        print(child.tag, child.text)"
   ]
  },
  {
   "cell_type": "code",
   "execution_count": 17,
   "metadata": {},
   "outputs": [
    {
     "name": "stdout",
     "output_type": "stream",
     "text": [
      "{http://www.loc.gov/zing/srw/}oclcdcs \n",
      "\n",
      "{http://www.loc.gov/zing/srw/}oclcdcs \n",
      "\n",
      "{http://www.loc.gov/zing/srw/}oclcdcs \n",
      "\n",
      "{http://www.loc.gov/zing/srw/}oclcdcs \n",
      "\n",
      "{http://www.loc.gov/zing/srw/}oclcdcs \n",
      "\n",
      "{http://www.loc.gov/zing/srw/}oclcdcs \n",
      "\n",
      "{http://www.loc.gov/zing/srw/}oclcdcs \n",
      "\n",
      "{http://www.loc.gov/zing/srw/}oclcdcs \n",
      "\n",
      "{http://www.loc.gov/zing/srw/}oclcdcs \n",
      "\n",
      "{http://www.loc.gov/zing/srw/}oclcdcs \n",
      "\n"
     ]
    }
   ],
   "source": [
    "for table in tree.iter('{http://www.loc.gov/zing/srw/}recordData'):\n",
    "    for child in table:\n",
    "        print(child.tag, child.text)"
   ]
  },
  {
   "cell_type": "code",
   "execution_count": 18,
   "metadata": {},
   "outputs": [
    {
     "name": "stdout",
     "output_type": "stream",
     "text": [
      "{http://purl.org/dc/elements/1.1/}creator Snelling, Lauraine.\n",
      "{http://purl.org/dc/elements/1.1/}date c2003\n",
      "{http://purl.org/dc/elements/1.1/}description \"Ruby Torvald sets out on a daunting journey with her young sister, Opal, to hopefully see their long-lost father once more and claim the promised inheritance. But instead of the treasure they expected, the sisters discover something most shocking.\" -- Book Cover.\n",
      "{http://purl.org/dc/elements/1.1/}format 320 p. ; 22 cm.\n",
      "{http://purl.org/dc/elements/1.1/}identifier 0764290762\n",
      "{http://purl.org/dc/elements/1.1/}identifier 9780764290763\n",
      "{http://purl.org/dc/elements/1.1/}identifier 0764222228\n",
      "{http://purl.org/dc/elements/1.1/}identifier 9780764222221\n",
      "{http://purl.org/dc/elements/1.1/}language eng\n",
      "{http://purl.org/dc/elements/1.1/}publisher Bethany House Publishers\n",
      "{http://purl.org/dc/elements/1.1/}relation Dakotah treasures ; 1\n",
      "{http://purl.org/dc/elements/1.1/}subject Inheritance and succession--Fiction.\n",
      "{http://purl.org/dc/elements/1.1/}subject Fathers and daughters--Fiction.\n",
      "{http://purl.org/dc/elements/1.1/}subject Women pioneers--Fiction.\n",
      "{http://purl.org/dc/elements/1.1/}subject Sisters--Fiction.\n",
      "{http://purl.org/dc/elements/1.1/}subject Medora (N.D.)--Fiction.\n",
      "{http://purl.org/dc/elements/1.1/}title Ruby \n",
      "{http://purl.org/dc/elements/1.1/}type Christian fiction.\n",
      "{http://purl.org/dc/elements/1.1/}type Western stories.\n",
      "{http://purl.org/dc/elements/1.1/}type Text\n",
      "{http://purl.org/oclc/terms/}recordCreationDate 030206\n",
      "{http://purl.org/oclc/terms/}recordIdentifier   2003002571\n",
      "{http://purl.org/oclc/terms/}recordIdentifier 51647374\n",
      "{http://purl.org/dc/elements/1.1/}creator Creech, Sharon.\n",
      "{http://purl.org/dc/elements/1.1/}date c2002\n",
      "{http://purl.org/dc/elements/1.1/}description 1st ed.\n",
      "{http://purl.org/dc/elements/1.1/}description Thirteen-year-old fraternal twins Dallas and Florida have grown up in a terrible orphanage but their lives change forever when an eccentric but sweet older couple invites them each on an adventure, beginning in an almost magical place called Ruby Holler.\n",
      "{http://purl.org/dc/elements/1.1/}description The Silver Bird -- The Boxton Creek Home -- Ruby Holler -- Mush -- Thinking Corners -- The Opportunity -- Doubts -- Hansel and Gretel -- The God -- The Egg -- The Grump -- Work -- Gravy -- Wood -- Conversations in the Night -- The Axe -- The Rocker -- The Trepids -- Understone Funds -- Through the Holler -- Lost and Found -- A Trip to Boxton -- Ready -- Tiller and Sairy -- The Holler at Night -- Shack Talk -- Trials -- Mrs. Trepid -- Decisions -- Nightmares -- Medicine -- Paddling and Hiking -- Z's Report -- Bearings -- Stiff -- A Long Chain -- Word Pictures -- Surveying -- The Worrywarts -- Babies in the Box -- Shopping -- Dorkhead -- Loops -- Progress -- The Rock -- Stones in the Holler -- Running -- More Shopping -- Underwater -- The Feeling -- Z -- The One-Log Raft -- The Dunces -- Slow Motion -- On the Road -- On the River -- The Soggy Heart -- Preparations -- Investments -- Hospital Talk -- Mr. Trepid's Adventure -- Jewels -- Mission-Accomplished Cake -- Appraisals -- Conversations in the Night -- Dreams.\n",
      "{http://purl.org/dc/elements/1.1/}format 310 p. ; 22 cm.\n",
      "{http://purl.org/dc/elements/1.1/}identifier 0060277327\n",
      "{http://purl.org/dc/elements/1.1/}identifier 9780060277321\n",
      "{http://purl.org/dc/elements/1.1/}identifier 0060277335 (lib. bdg)\n",
      "{http://purl.org/dc/elements/1.1/}identifier 9780060277338 (lib. bdg)\n",
      "{http://purl.org/dc/elements/1.1/}language eng\n",
      "{http://purl.org/dc/elements/1.1/}publisher Joanna Cotler Books/Harper Collins Publishers\n",
      "{http://purl.org/dc/elements/1.1/}relation http://www.loc.gov/catdir/description/hc041/00066371.html\n",
      "{http://purl.org/dc/elements/1.1/}subject Orphans--Juvenile fiction.\n",
      "{http://purl.org/dc/elements/1.1/}subject Twins--Juvenile fiction.\n",
      "{http://purl.org/dc/elements/1.1/}subject Brothers and sisters--Juvenile fiction.\n",
      "{http://purl.org/dc/elements/1.1/}subject Wood-carvers--Juvenile fiction.\n",
      "{http://purl.org/dc/elements/1.1/}subject Country life--Juvenile fiction.\n",
      "{http://purl.org/dc/elements/1.1/}subject Voyages and travels--Juvenile fiction.\n",
      "{http://purl.org/dc/elements/1.1/}title Ruby Holler \n",
      "{http://purl.org/dc/elements/1.1/}type Text\n",
      "{http://purl.org/oclc/terms/}recordCreationDate 001109\n",
      "{http://purl.org/oclc/terms/}recordIdentifier    00066371 \n",
      "{http://purl.org/oclc/terms/}recordIdentifier 45487314\n",
      "{http://purl.org/dc/elements/1.1/}creator Bridges, Ruby.\n",
      "{http://purl.org/dc/elements/1.1/}date 1999\n",
      "{http://purl.org/dc/elements/1.1/}description 1st ed.\n",
      "{http://purl.org/dc/elements/1.1/}description Ruby Bridges recounts the story of her involvement, as a six-year-old, in the integration of her school in New Orleans in 1960.\n",
      "{http://purl.org/dc/elements/1.1/}description green dot\n",
      "{http://purl.org/dc/elements/1.1/}format 63 p. : ill. ; 28 cm.\n",
      "{http://purl.org/dc/elements/1.1/}identifier 0590189239 (hc)\n",
      "{http://purl.org/dc/elements/1.1/}identifier 9780590189231 (hc)\n",
      "{http://purl.org/dc/elements/1.1/}language eng\n",
      "{http://purl.org/dc/elements/1.1/}publisher Scholastic Press\n",
      "{http://purl.org/dc/elements/1.1/}subject Bridges, Ruby--Juvenile literature.\n",
      "{http://purl.org/dc/elements/1.1/}subject African American children--Louisiana--New Orleans--Biography--Juvenile literature.\n",
      "{http://purl.org/dc/elements/1.1/}subject African Americans--Louisiana--New Orleans--Biography--Juvenile literature.\n",
      "{http://purl.org/dc/elements/1.1/}subject School integration--Louisiana--New Orleans--Juvenile literature.\n",
      "{http://purl.org/dc/elements/1.1/}subject New Orleans (La.)--Race relations--Juvenile literature.\n",
      "{http://purl.org/dc/elements/1.1/}title Through my eyes \n",
      "{http://purl.org/dc/elements/1.1/}type Text\n",
      "{http://purl.org/oclc/terms/}recordCreationDate 981216\n",
      "{http://purl.org/oclc/terms/}recordIdentifier    98049242 \n",
      "{http://purl.org/oclc/terms/}recordIdentifier 40588556\n",
      "{http://purl.org/dc/elements/1.1/}creator Andrews, V. C. (Virginia C.)\n",
      "{http://purl.org/dc/elements/1.1/}date c1994\n",
      "{http://purl.org/dc/elements/1.1/}description growing up in the heart of Cajun country, the only family Ruby Landry has ever known are her loving ghuardian Jack, a drunken outcast who lives alone in a shack in the swamp.\n",
      "{http://purl.org/dc/elements/1.1/}format 442 p. ; 23 cm.\n",
      "{http://purl.org/dc/elements/1.1/}identifier 0671759353\n",
      "{http://purl.org/dc/elements/1.1/}identifier 9780671759353\n",
      "{http://purl.org/dc/elements/1.1/}language eng\n",
      "{http://purl.org/dc/elements/1.1/}publisher Pocket Books\n",
      "{http://purl.org/dc/elements/1.1/}subject Aileler--Roman.\n",
      "{http://purl.org/dc/elements/1.1/}subject Luizana--Roman.\n",
      "{http://purl.org/dc/elements/1.1/}subject Families--Fiction.\n",
      "{http://purl.org/dc/elements/1.1/}subject Louisiana--Fiction.\n",
      "{http://purl.org/dc/elements/1.1/}title Ruby \n",
      "{http://purl.org/dc/elements/1.1/}type Romantic suspense novels.\n",
      "{http://purl.org/dc/elements/1.1/}type Text\n",
      "{http://purl.org/oclc/terms/}recordCreationDate 940608\n",
      "{http://purl.org/oclc/terms/}recordIdentifier    94168748 \n",
      "{http://purl.org/oclc/terms/}recordIdentifier 29631416\n",
      "{http://purl.org/dc/elements/1.1/}creator Emberley, Michael.\n",
      "{http://purl.org/dc/elements/1.1/}date c1990\n",
      "{http://purl.org/dc/elements/1.1/}description 1st ed.\n",
      "{http://purl.org/dc/elements/1.1/}description While taking cheese pies to her Granny, Ruby, a small but tough-minded little mouse, forgets her mother's advice not to talk to cats. Story is a variation on Red Riding Hood.\n",
      "{http://purl.org/dc/elements/1.1/}format [25] p. : col. ill. ; 21 cm.\n",
      "{http://purl.org/dc/elements/1.1/}identifier 0316236438 (lib. bdg.) \n",
      "{http://purl.org/dc/elements/1.1/}identifier 9780316236430 (lib. bdg.)\n",
      "{http://purl.org/dc/elements/1.1/}identifier 0316236608 (pbk.)\n",
      "{http://purl.org/dc/elements/1.1/}identifier 9780316236607 (pbk.)\n",
      "{http://purl.org/dc/elements/1.1/}language eng\n",
      "{http://purl.org/dc/elements/1.1/}publisher Little, Brown\n",
      "{http://purl.org/dc/elements/1.1/}subject Mice--Juvenile fiction.\n",
      "{http://purl.org/dc/elements/1.1/}subject Cats--Juvenile fiction.\n",
      "{http://purl.org/dc/elements/1.1/}title Ruby \n",
      "{http://purl.org/dc/elements/1.1/}type Text\n",
      "{http://purl.org/oclc/terms/}recordCreationDate 890511\n",
      "{http://purl.org/oclc/terms/}recordIdentifier    89012108 \n",
      "{http://purl.org/oclc/terms/}recordIdentifier 19774282\n",
      "{http://purl.org/dc/elements/1.1/}creator Ruby, Laura.\n",
      "{http://purl.org/dc/elements/1.1/}date 2007\n",
      "{http://purl.org/dc/elements/1.1/}description 1st ed.\n",
      "{http://purl.org/dc/elements/1.1/}description Loopy -- Restoration -- Ballad of the Barbie feet -- Dear psycho -- Safekeeping -- Picture of health -- I'm not Julia Roberts -- The bunko bunny -- The dog next door -- Hug machine.\n",
      "{http://purl.org/dc/elements/1.1/}format 251 p. : ill. ; 22 cm.\n",
      "{http://purl.org/dc/elements/1.1/}identifier 0446578746\n",
      "{http://purl.org/dc/elements/1.1/}identifier 9780446578745\n",
      "{http://purl.org/dc/elements/1.1/}language eng\n",
      "{http://purl.org/dc/elements/1.1/}publisher Warner Books\n",
      "{http://purl.org/dc/elements/1.1/}relation http://www.loc.gov/catdir/toc/ecip069/2006006832.html\n",
      "{http://purl.org/dc/elements/1.1/}subject Stepmothers--Fiction.\n",
      "{http://purl.org/dc/elements/1.1/}subject Stepfamilies--Fiction.\n",
      "{http://purl.org/dc/elements/1.1/}subject Illinois--Fiction.\n",
      "{http://purl.org/dc/elements/1.1/}title I'm not Julia Roberts \n",
      "{http://purl.org/dc/elements/1.1/}title I am not Julia Roberts\n",
      "{http://purl.org/dc/elements/1.1/}type Text\n",
      "{http://purl.org/oclc/terms/}recordCreationDate 060227\n",
      "{http://purl.org/oclc/terms/}recordIdentifier   2006006832\n",
      "{http://purl.org/oclc/terms/}recordIdentifier 64442891\n",
      "{http://purl.org/dc/elements/1.1/}creator Ruby, Laura.\n",
      "{http://purl.org/dc/elements/1.1/}date c2007\n",
      "{http://purl.org/dc/elements/1.1/}description 1st ed.\n",
      "{http://purl.org/dc/elements/1.1/}description Thirteen-year-old Georgie and Bug, a year older, have been pulled apart by the demands of their newfound fame and fortune, but join forces again when a punk, vampires, a giant sloth, and other creatures come after them on the streets of a New York City of the future.\n",
      "{http://purl.org/dc/elements/1.1/}format 325 p. ; 22 cm.\n",
      "{http://purl.org/dc/elements/1.1/}identifier 9780060752583 (trade bdg.)\n",
      "{http://purl.org/dc/elements/1.1/}identifier 9780060752590 (lib. bdg.)\n",
      "{http://purl.org/dc/elements/1.1/}identifier 0060752580\n",
      "{http://purl.org/dc/elements/1.1/}identifier 0060752599\n",
      "{http://purl.org/dc/elements/1.1/}language eng\n",
      "{http://purl.org/dc/elements/1.1/}publisher Eos\n",
      "{http://purl.org/dc/elements/1.1/}relation http://www.loc.gov/catdir/enhancements/fy0911/2007008621-b.html\n",
      "{http://purl.org/dc/elements/1.1/}relation http://www.loc.gov/catdir/enhancements/fy0911/2007008621-d.html\n",
      "{http://purl.org/dc/elements/1.1/}subject Fame--Juvenile fiction.\n",
      "{http://purl.org/dc/elements/1.1/}subject Wealth--Juvenile fiction.\n",
      "{http://purl.org/dc/elements/1.1/}subject Supernatural--Juvenile fiction.\n",
      "{http://purl.org/dc/elements/1.1/}subject Books and reading--Juvenile fiction.\n",
      "{http://purl.org/dc/elements/1.1/}subject Cats--Juvenile fiction.\n",
      "{http://purl.org/dc/elements/1.1/}subject Flight--Juvenile fiction.\n",
      "{http://purl.org/dc/elements/1.1/}subject New York (N.Y.)--Juvenile fiction.\n",
      "{http://purl.org/dc/elements/1.1/}title The chaos king \n",
      "{http://purl.org/dc/elements/1.1/}type Fantasy fiction.\n",
      "{http://purl.org/dc/elements/1.1/}type Children's stories.\n",
      "{http://purl.org/dc/elements/1.1/}type Text\n",
      "{http://purl.org/oclc/terms/}recordCreationDate 070329\n",
      "{http://purl.org/oclc/terms/}recordIdentifier   2007008621\n",
      "{http://purl.org/oclc/terms/}recordIdentifier 122309000\n",
      "{http://purl.org/dc/elements/1.1/}creator Ruby, Laura.\n",
      "{http://purl.org/dc/elements/1.1/}date c2009\n",
      "{http://purl.org/dc/elements/1.1/}description 1st ed.\n",
      "{http://purl.org/dc/elements/1.1/}description Tola Riley, a high school junior, struggles to tell the truth when she and her art teacher are accused of having an affair.\n",
      "{http://purl.org/dc/elements/1.1/}format 247 p. ; 22 cm.\n",
      "{http://purl.org/dc/elements/1.1/}identifier 9780061243301 (trade bdg.)\n",
      "{http://purl.org/dc/elements/1.1/}identifier 0061243302 (trade bdg.)\n",
      "{http://purl.org/dc/elements/1.1/}identifier 9780061243325 (lib. bdg.)\n",
      "{http://purl.org/dc/elements/1.1/}identifier 0061243329 (lib. bdg.)\n",
      "{http://purl.org/dc/elements/1.1/}language eng\n",
      "{http://purl.org/dc/elements/1.1/}publisher HarperTeen\n",
      "{http://purl.org/dc/elements/1.1/}subject Teacher-student relationships--Fiction.\n",
      "{http://purl.org/dc/elements/1.1/}subject Cyberbullying--Fiction.\n",
      "{http://purl.org/dc/elements/1.1/}subject High schools--Fiction.\n",
      "{http://purl.org/dc/elements/1.1/}subject Schools--Fiction.\n",
      "{http://purl.org/dc/elements/1.1/}subject Family problems--Fiction.\n",
      "{http://purl.org/dc/elements/1.1/}subject Divorce--Fiction.\n",
      "{http://purl.org/dc/elements/1.1/}title Bad apple \n",
      "{http://purl.org/dc/elements/1.1/}type Text\n",
      "{http://purl.org/oclc/terms/}recordCreationDate 090128\n",
      "{http://purl.org/oclc/terms/}recordIdentifier   2009001409\n",
      "{http://purl.org/oclc/terms/}recordIdentifier 300462588\n",
      "{http://purl.org/dc/elements/1.1/}creator Ruby, Laura.\n",
      "{http://purl.org/dc/elements/1.1/}date c2006\n",
      "{http://purl.org/dc/elements/1.1/}description 1st ed.\n",
      "{http://purl.org/dc/elements/1.1/}description In a future New York where most people can fly and cats are a rarity, a nondescript resident of Hope House for the Homeless and Hopeless discovers that although she is shunned as a \"leadfoot,\" she has the surprising ability to become invisible.\n",
      "{http://purl.org/dc/elements/1.1/}format 327 p. ; 22 cm.\n",
      "{http://purl.org/dc/elements/1.1/}identifier 0060752556\n",
      "{http://purl.org/dc/elements/1.1/}identifier 0060752564 (lib. bdg.)\n",
      "{http://purl.org/dc/elements/1.1/}identifier 9780060752552\n",
      "{http://purl.org/dc/elements/1.1/}identifier 9780060752569\n",
      "{http://purl.org/dc/elements/1.1/}language eng\n",
      "{http://purl.org/dc/elements/1.1/}publisher Eos\n",
      "{http://purl.org/dc/elements/1.1/}relation http://www.loc.gov/catdir/toc/ecip0518/2005023170.html\n",
      "{http://purl.org/dc/elements/1.1/}relation http://www.loc.gov/catdir/enhancements/fy0910/2005023170-b.html\n",
      "{http://purl.org/dc/elements/1.1/}relation http://www.loc.gov/catdir/enhancements/fy0910/2005023170-d.html\n",
      "{http://purl.org/dc/elements/1.1/}subject Orphans--Juvenile fiction.\n",
      "{http://purl.org/dc/elements/1.1/}subject Orphanages--Juvenile fiction.\n",
      "{http://purl.org/dc/elements/1.1/}subject Cats--Juvenile fiction.\n",
      "{http://purl.org/dc/elements/1.1/}subject Flight--Juvenile fiction.\n",
      "{http://purl.org/dc/elements/1.1/}subject Gangsters--Juvenile fiction.\n",
      "{http://purl.org/dc/elements/1.1/}subject New York (N.Y.)--Juvenile fiction.\n",
      "{http://purl.org/dc/elements/1.1/}title The Wall and the Wing \n",
      "{http://purl.org/dc/elements/1.1/}type Text\n",
      "{http://purl.org/oclc/terms/}recordCreationDate 050816\n",
      "{http://purl.org/oclc/terms/}recordIdentifier   2005023170\n",
      "{http://purl.org/oclc/terms/}recordIdentifier 61451492\n",
      "{http://purl.org/dc/elements/1.1/}creator Ruby, Laura.\n",
      "{http://purl.org/dc/elements/1.1/}date c2006\n",
      "{http://purl.org/dc/elements/1.1/}description 1st ed.\n",
      "{http://purl.org/dc/elements/1.1/}description Sixteen-year-old high school senior Audrey is humiliated when a compromising photograph of her is sent around her school, but she discovers a toughness within her that she never knew she had.\n",
      "{http://purl.org/dc/elements/1.1/}format 274 p. ; 22 cm.\n",
      "{http://purl.org/dc/elements/1.1/}identifier 0060882239 (trade bdg.)\n",
      "{http://purl.org/dc/elements/1.1/}identifier 9780060882235 (trade bdg.)\n",
      "{http://purl.org/dc/elements/1.1/}identifier 0060882247 (lib. bdg.)\n",
      "{http://purl.org/dc/elements/1.1/}identifier 9780060882242 (lib. bdg.)\n",
      "{http://purl.org/dc/elements/1.1/}language eng\n",
      "{http://purl.org/dc/elements/1.1/}publisher HarperTempest\n",
      "{http://purl.org/dc/elements/1.1/}subject Interpersonal relations--Juvenile fiction.\n",
      "{http://purl.org/dc/elements/1.1/}subject Sex--Juvenile fiction.\n",
      "{http://purl.org/dc/elements/1.1/}subject Conduct of life--Juvenile fiction.\n",
      "{http://purl.org/dc/elements/1.1/}subject High schools--Juvenile fiction.\n",
      "{http://purl.org/dc/elements/1.1/}subject Schools--Juvenile fiction.\n",
      "{http://purl.org/dc/elements/1.1/}title Good girls \n",
      "{http://purl.org/dc/elements/1.1/}type Text\n",
      "{http://purl.org/oclc/terms/}recordCreationDate 060125\n",
      "{http://purl.org/oclc/terms/}recordIdentifier   2006000340\n",
      "{http://purl.org/oclc/terms/}recordIdentifier 63187390\n"
     ]
    }
   ],
   "source": [
    "for table in tree.iter('{http://www.loc.gov/zing/srw/}oclcdcs'):\n",
    "    for child in table:\n",
    "        print(child.tag, child.text)"
   ]
  },
  {
   "cell_type": "code",
   "execution_count": 19,
   "metadata": {},
   "outputs": [
    {
     "name": "stdout",
     "output_type": "stream",
     "text": [
      "{http://purl.org/dc/elements/1.1/}identifier 0764290762\n",
      "{http://purl.org/dc/elements/1.1/}identifier 9780764290763\n",
      "{http://purl.org/dc/elements/1.1/}identifier 0764222228\n",
      "{http://purl.org/dc/elements/1.1/}identifier 9780764222221\n",
      "{http://purl.org/dc/elements/1.1/}identifier 0060277327\n",
      "{http://purl.org/dc/elements/1.1/}identifier 9780060277321\n",
      "{http://purl.org/dc/elements/1.1/}identifier 0060277335 (lib. bdg)\n",
      "{http://purl.org/dc/elements/1.1/}identifier 9780060277338 (lib. bdg)\n",
      "{http://purl.org/dc/elements/1.1/}identifier 0590189239 (hc)\n",
      "{http://purl.org/dc/elements/1.1/}identifier 9780590189231 (hc)\n",
      "{http://purl.org/dc/elements/1.1/}identifier 0671759353\n",
      "{http://purl.org/dc/elements/1.1/}identifier 9780671759353\n",
      "{http://purl.org/dc/elements/1.1/}identifier 0316236438 (lib. bdg.) \n",
      "{http://purl.org/dc/elements/1.1/}identifier 9780316236430 (lib. bdg.)\n",
      "{http://purl.org/dc/elements/1.1/}identifier 0316236608 (pbk.)\n",
      "{http://purl.org/dc/elements/1.1/}identifier 9780316236607 (pbk.)\n",
      "{http://purl.org/dc/elements/1.1/}identifier 0446578746\n",
      "{http://purl.org/dc/elements/1.1/}identifier 9780446578745\n",
      "{http://purl.org/dc/elements/1.1/}identifier 9780060752583 (trade bdg.)\n",
      "{http://purl.org/dc/elements/1.1/}identifier 9780060752590 (lib. bdg.)\n",
      "{http://purl.org/dc/elements/1.1/}identifier 0060752580\n",
      "{http://purl.org/dc/elements/1.1/}identifier 0060752599\n",
      "{http://purl.org/dc/elements/1.1/}identifier 9780061243301 (trade bdg.)\n",
      "{http://purl.org/dc/elements/1.1/}identifier 0061243302 (trade bdg.)\n",
      "{http://purl.org/dc/elements/1.1/}identifier 9780061243325 (lib. bdg.)\n",
      "{http://purl.org/dc/elements/1.1/}identifier 0061243329 (lib. bdg.)\n",
      "{http://purl.org/dc/elements/1.1/}identifier 0060752556\n",
      "{http://purl.org/dc/elements/1.1/}identifier 0060752564 (lib. bdg.)\n",
      "{http://purl.org/dc/elements/1.1/}identifier 9780060752552\n",
      "{http://purl.org/dc/elements/1.1/}identifier 9780060752569\n",
      "{http://purl.org/dc/elements/1.1/}identifier 0060882239 (trade bdg.)\n",
      "{http://purl.org/dc/elements/1.1/}identifier 9780060882235 (trade bdg.)\n",
      "{http://purl.org/dc/elements/1.1/}identifier 0060882247 (lib. bdg.)\n",
      "{http://purl.org/dc/elements/1.1/}identifier 9780060882242 (lib. bdg.)\n"
     ]
    },
    {
     "name": "stderr",
     "output_type": "stream",
     "text": [
      "C:\\Users\\Ruben\\AppData\\Local\\Temp\\ipykernel_11288\\2969614984.py:1: FutureWarning: This search is broken in 1.3 and earlier, and will be fixed in a future version.  If you rely on the current behaviour, change it to './/{http://purl.org/dc/elements/1.1/}identifier'\n",
      "  table = tree.findall('//{http://purl.org/dc/elements/1.1/}identifier')\n"
     ]
    }
   ],
   "source": [
    "table = tree.findall('//{http://purl.org/dc/elements/1.1/}identifier')\n",
    "for child in table:\n",
    "    print(child.tag, child.text)"
   ]
  },
  {
   "cell_type": "code",
   "execution_count": 20,
   "metadata": {},
   "outputs": [
    {
     "name": "stdout",
     "output_type": "stream",
     "text": [
      "{http://purl.org/dc/elements/1.1/}identifier 0764290762\n",
      "{http://purl.org/dc/elements/1.1/}identifier 9780764290763\n",
      "{http://purl.org/dc/elements/1.1/}identifier 0764222228\n",
      "{http://purl.org/dc/elements/1.1/}identifier 9780764222221\n",
      "{http://purl.org/dc/elements/1.1/}identifier 0060277327\n",
      "{http://purl.org/dc/elements/1.1/}identifier 9780060277321\n",
      "{http://purl.org/dc/elements/1.1/}identifier 0060277335 (lib. bdg)\n",
      "{http://purl.org/dc/elements/1.1/}identifier 9780060277338 (lib. bdg)\n",
      "{http://purl.org/dc/elements/1.1/}identifier 0590189239 (hc)\n",
      "{http://purl.org/dc/elements/1.1/}identifier 9780590189231 (hc)\n",
      "{http://purl.org/dc/elements/1.1/}identifier 0671759353\n",
      "{http://purl.org/dc/elements/1.1/}identifier 9780671759353\n",
      "{http://purl.org/dc/elements/1.1/}identifier 0316236438 (lib. bdg.) \n",
      "{http://purl.org/dc/elements/1.1/}identifier 9780316236430 (lib. bdg.)\n",
      "{http://purl.org/dc/elements/1.1/}identifier 0316236608 (pbk.)\n",
      "{http://purl.org/dc/elements/1.1/}identifier 9780316236607 (pbk.)\n",
      "{http://purl.org/dc/elements/1.1/}identifier 0446578746\n",
      "{http://purl.org/dc/elements/1.1/}identifier 9780446578745\n",
      "{http://purl.org/dc/elements/1.1/}identifier 9780060752583 (trade bdg.)\n",
      "{http://purl.org/dc/elements/1.1/}identifier 9780060752590 (lib. bdg.)\n",
      "{http://purl.org/dc/elements/1.1/}identifier 0060752580\n",
      "{http://purl.org/dc/elements/1.1/}identifier 0060752599\n",
      "{http://purl.org/dc/elements/1.1/}identifier 9780061243301 (trade bdg.)\n",
      "{http://purl.org/dc/elements/1.1/}identifier 0061243302 (trade bdg.)\n",
      "{http://purl.org/dc/elements/1.1/}identifier 9780061243325 (lib. bdg.)\n",
      "{http://purl.org/dc/elements/1.1/}identifier 0061243329 (lib. bdg.)\n",
      "{http://purl.org/dc/elements/1.1/}identifier 0060752556\n",
      "{http://purl.org/dc/elements/1.1/}identifier 0060752564 (lib. bdg.)\n",
      "{http://purl.org/dc/elements/1.1/}identifier 9780060752552\n",
      "{http://purl.org/dc/elements/1.1/}identifier 9780060752569\n",
      "{http://purl.org/dc/elements/1.1/}identifier 0060882239 (trade bdg.)\n",
      "{http://purl.org/dc/elements/1.1/}identifier 9780060882235 (trade bdg.)\n",
      "{http://purl.org/dc/elements/1.1/}identifier 0060882247 (lib. bdg.)\n",
      "{http://purl.org/dc/elements/1.1/}identifier 9780060882242 (lib. bdg.)\n"
     ]
    },
    {
     "name": "stderr",
     "output_type": "stream",
     "text": [
      "C:\\Users\\Ruben\\AppData\\Local\\Temp\\ipykernel_11288\\973043665.py:1: FutureWarning: This search is broken in 1.3 and earlier, and will be fixed in a future version.  If you rely on the current behaviour, change it to './/{http://purl.org/dc/elements/1.1/}identifier'\n",
      "  relation = tree.findall('//{http://purl.org/dc/elements/1.1/}identifier')\n"
     ]
    }
   ],
   "source": [
    "relation = tree.findall('//{http://purl.org/dc/elements/1.1/}identifier')\n",
    "for elem in relation:\n",
    "    print(elem.tag, elem.text)"
   ]
  },
  {
   "cell_type": "markdown",
   "metadata": {},
   "source": [
    "## XPATH"
   ]
  },
  {
   "cell_type": "markdown",
   "metadata": {},
   "source": [
    "XPath es un lenguaje que permite construir expresiones que recorren y procesan un documento XML. La idea es parecida a las expresiones regulares para seleccionar partes de un texto sin atributos. XPath permite buscar y seleccionar teniendo en cuenta la estructura jerárquica del XML"
   ]
  },
  {
   "cell_type": "markdown",
   "metadata": {},
   "source": [
    "<table border=\"1\" class=\"docutils\">\n",
    "<colgroup>\n",
    "<col width=\"30%\">\n",
    "<col width=\"70%\">\n",
    "</colgroup>\n",
    "<thead valign=\"bottom\">\n",
    "<tr class=\"row-odd\"><th class=\"head\">Syntax</th>\n",
    "<th class=\"head\">Meaning</th>\n",
    "</tr>\n",
    "</thead>\n",
    "<tbody valign=\"top\">\n",
    "<tr class=\"row-even\"><td><code class=\"docutils literal notranslate\"><span class=\"pre\">tag</span></code></td>\n",
    "<td>Selects all child elements with the given tag.\n",
    "For example, <code class=\"docutils literal notranslate\"><span class=\"pre\">spam</span></code> selects all child elements\n",
    "named <code class=\"docutils literal notranslate\"><span class=\"pre\">spam</span></code>, and <code class=\"docutils literal notranslate\"><span class=\"pre\">spam/egg</span></code> selects all\n",
    "grandchildren named <code class=\"docutils literal notranslate\"><span class=\"pre\">egg</span></code> in all children named\n",
    "<code class=\"docutils literal notranslate\"><span class=\"pre\">spam</span></code>.</td>\n",
    "</tr>\n",
    "<tr class=\"row-odd\"><td><code class=\"docutils literal notranslate\"><span class=\"pre\">*</span></code></td>\n",
    "<td>Selects all child elements.  For example, <code class=\"docutils literal notranslate\"><span class=\"pre\">*/egg</span></code>\n",
    "selects all grandchildren named <code class=\"docutils literal notranslate\"><span class=\"pre\">egg</span></code>.</td>\n",
    "</tr>\n",
    "<tr class=\"row-even\"><td><code class=\"docutils literal notranslate\"><span class=\"pre\">.</span></code></td>\n",
    "<td>Selects the current node.  This is mostly useful\n",
    "at the beginning of the path, to indicate that it’s\n",
    "a relative path.</td>\n",
    "</tr>\n",
    "<tr class=\"row-odd\"><td><code class=\"docutils literal notranslate\"><span class=\"pre\">//</span></code></td>\n",
    "<td>Selects all subelements, on all levels beneath the\n",
    "current  element.  For example, <code class=\"docutils literal notranslate\"><span class=\"pre\">.//egg</span></code> selects\n",
    "all <code class=\"docutils literal notranslate\"><span class=\"pre\">egg</span></code> elements in the entire tree.</td>\n",
    "</tr>\n",
    "<tr class=\"row-even\"><td><code class=\"docutils literal notranslate\"><span class=\"pre\">..</span></code></td>\n",
    "<td>Selects the parent element.</td>\n",
    "</tr>\n",
    "<tr class=\"row-odd\"><td><code class=\"docutils literal notranslate\"><span class=\"pre\">[@attrib]</span></code></td>\n",
    "<td>Selects all elements that have the given attribute.</td>\n",
    "</tr>\n",
    "<tr class=\"row-even\"><td><code class=\"docutils literal notranslate\"><span class=\"pre\">[@attrib='value']</span></code></td>\n",
    "<td>Selects all elements for which the given attribute\n",
    "has the given value.  The value cannot contain\n",
    "quotes.</td>\n",
    "</tr>\n",
    "<tr class=\"row-odd\"><td><code class=\"docutils literal notranslate\"><span class=\"pre\">[tag]</span></code></td>\n",
    "<td>Selects all elements that have a child named\n",
    "<code class=\"docutils literal notranslate\"><span class=\"pre\">tag</span></code>.  Only immediate children are supported.</td>\n",
    "</tr>\n",
    "<tr class=\"row-even\"><td><code class=\"docutils literal notranslate\"><span class=\"pre\">[tag='text']</span></code></td>\n",
    "<td>Selects all elements that have a child named\n",
    "<code class=\"docutils literal notranslate\"><span class=\"pre\">tag</span></code> whose complete text content, including\n",
    "descendants, equals the given <code class=\"docutils literal notranslate\"><span class=\"pre\">text</span></code>.</td>\n",
    "</tr>\n",
    "<tr class=\"row-odd\"><td><code class=\"docutils literal notranslate\"><span class=\"pre\">[position]</span></code></td>\n",
    "<td>Selects all elements that are located at the given\n",
    "position.  The position can be either an integer\n",
    "(1 is the first position), the expression <code class=\"docutils literal notranslate\"><span class=\"pre\">last()</span></code>\n",
    "(for the last position), or a position relative to\n",
    "the last position (e.g. <code class=\"docutils literal notranslate\"><span class=\"pre\">last()-1</span></code>).</td>\n",
    "</tr>\n",
    "</tbody>\n",
    "</table>"
   ]
  },
  {
   "cell_type": "markdown",
   "metadata": {},
   "source": [
    "Como ves, hay que ir entendiendo la jerarquía del XML para poder obtener la información. \n",
    "\n",
    "¿Puedes obtener los títulos de los recursos descritos en el XML?"
   ]
  },
  {
   "cell_type": "markdown",
   "metadata": {},
   "source": [
    "<div class=\"alert alert-warning\" role=\"alert\" style=\"margin: 10px\">\n",
    "<p>**Ayuda**</p>\n",
    "\n",
    "<p>'//' para indicar que empiece a buscar desde el elemento actual desde el que parte el arbol + tipo+nombre del elemento a buscar ({http://purl.org/dc/elements/1.1/} title)</p>\n",
    "</div>"
   ]
  },
  {
   "cell_type": "code",
   "execution_count": 21,
   "metadata": {},
   "outputs": [
    {
     "name": "stdout",
     "output_type": "stream",
     "text": [
      "{http://purl.org/dc/elements/1.1/}title Ruby \n",
      "{http://purl.org/dc/elements/1.1/}title Ruby Holler \n",
      "{http://purl.org/dc/elements/1.1/}title Through my eyes \n",
      "{http://purl.org/dc/elements/1.1/}title Ruby \n",
      "{http://purl.org/dc/elements/1.1/}title Ruby \n",
      "{http://purl.org/dc/elements/1.1/}title I'm not Julia Roberts \n",
      "{http://purl.org/dc/elements/1.1/}title I am not Julia Roberts\n",
      "{http://purl.org/dc/elements/1.1/}title The chaos king \n",
      "{http://purl.org/dc/elements/1.1/}title Bad apple \n",
      "{http://purl.org/dc/elements/1.1/}title The Wall and the Wing \n",
      "{http://purl.org/dc/elements/1.1/}title Good girls \n"
     ]
    }
   ],
   "source": [
    "relation = tree.findall('.//{http://purl.org/dc/elements/1.1/}title')\n",
    "for elem in relation:\n",
    "    print(elem.tag, elem.text)"
   ]
  },
  {
   "cell_type": "markdown",
   "metadata": {},
   "source": [
    "Haz lo mismo utilizando namespace"
   ]
  },
  {
   "cell_type": "code",
   "execution_count": 22,
   "metadata": {},
   "outputs": [
    {
     "name": "stdout",
     "output_type": "stream",
     "text": [
      "{http://purl.org/dc/elements/1.1/}title Ruby \n",
      "{http://purl.org/dc/elements/1.1/}title Ruby Holler \n",
      "{http://purl.org/dc/elements/1.1/}title Through my eyes \n",
      "{http://purl.org/dc/elements/1.1/}title Ruby \n",
      "{http://purl.org/dc/elements/1.1/}title Ruby \n",
      "{http://purl.org/dc/elements/1.1/}title I'm not Julia Roberts \n",
      "{http://purl.org/dc/elements/1.1/}title I am not Julia Roberts\n",
      "{http://purl.org/dc/elements/1.1/}title The chaos king \n",
      "{http://purl.org/dc/elements/1.1/}title Bad apple \n",
      "{http://purl.org/dc/elements/1.1/}title The Wall and the Wing \n",
      "{http://purl.org/dc/elements/1.1/}title Good girls \n"
     ]
    }
   ],
   "source": [
    "namespaces = {'dc': 'http://purl.org/dc/elements/1.1/'} # add more as needed\n",
    "relation = tree.findall('.//dc:title',namespaces)\n",
    "for elem in relation:\n",
    "    print(elem.tag, elem.text)"
   ]
  },
  {
   "cell_type": "markdown",
   "metadata": {},
   "source": [
    "## Ejemplo con EML"
   ]
  },
  {
   "cell_type": "code",
   "execution_count": 23,
   "metadata": {},
   "outputs": [],
   "source": [
    "import requests\n",
    "\n",
    "response = requests.get('https://zenodo.org/record/841691/files/amt_prototype.xml')\n",
    "if response.status_code == 200:\n",
    "    with open(\"./amt_prototype.xml\", 'wb') as f:\n",
    "        f.write(response.content)\n",
    "        \n"
   ]
  },
  {
   "cell_type": "code",
   "execution_count": 24,
   "metadata": {},
   "outputs": [
    {
     "name": "stdout",
     "output_type": "stream",
     "text": [
      " El volumen de la unidad C no tiene etiqueta.\n",
      " El n�mero de serie del volumen es: CE62-6A44\n",
      "\n",
      " Directorio de c:\\Users\\Ruben\\Proyectos\\master\\asignaturas\\data life\n",
      "\n",
      "13/11/2023  18:22    <DIR>          .\n",
      "13/11/2023  18:22    <DIR>          ..\n",
      "16/11/2023  15:57            13.595 amt_prototype.xml\n",
      "13/11/2023  18:22             3.072 datacite-example.xml\n",
      "16/11/2023  15:57            19.563 dublincore-example.xml\n",
      "15/11/2023  16:08            81.930 metadataIntro_2023.ipynb\n",
      "               4 archivos        118.160 bytes\n",
      "               2 dirs  20.958.400.512 bytes libres\n"
     ]
    }
   ],
   "source": [
    "ls"
   ]
  },
  {
   "cell_type": "markdown",
   "metadata": {},
   "source": [
    "En estándares más complejos, el xml de base puede tener una jerarquía anidada, como es el caso de EML. Entonces, cada elemento puede tener de 0 a N \"hijos\", formando nuevos árboles."
   ]
  },
  {
   "cell_type": "code",
   "execution_count": 118,
   "metadata": {},
   "outputs": [
    {
     "name": "stdout",
     "output_type": "stream",
     "text": [
      "attributeName: date\n",
      "attributeName: Temperature\n",
      "attributeName: Press\n",
      "attributeName: Conductivity\n",
      "attributeName: Salinity\n",
      "attributeName: Dissolved oxygen\n",
      "attributeName: rawO2\n",
      "attributeName: Oxygen Saturation\n",
      "attributeName: ph\n",
      "attributeName: Redox\n",
      "alternateIdentifier \n",
      "10.5281/zenodo.841183\n",
      "\n",
      "title water reservoir of Cuerda del Pozo\n",
      "organizationName IFCA\n",
      "electronicMailAddress marco@ifca.unican.es\n",
      "salutation Mr\n",
      "givenName Jesus Marco\n",
      "surName De Lucas\n",
      "deliveryPoint Avda Castros s/n\n",
      "city Santander\n",
      "postalCode 39005\n",
      "country Spain\n",
      "organizationName IFCA\n",
      "electronicMailAddress aguilarf@ifca.unican.es\n",
      "role guardian\n",
      "givenName Fernando\n",
      "surName Aguilar\n",
      "deliveryPoint Avda Castros s/n\n",
      "city Santander\n",
      "postalCode 39005\n",
      "country Spain\n",
      "para The CTD 60 is a precision probe for oceanographic and limnological measurements of physical, chemical and optical parameters up to a depth of 2000 m. It allows the simultaneous measurement of following parameters: Pressure (depth), temperature, conductivity, raw O2, REDOX, dissolved oxygen, pH, Oxigen Saturation, Salinity.\n",
      "keyword measure\n",
      "keyword water reservoir\n",
      "keyword sensor\n",
      "keyword physical and chemical parameters\n",
      "geographicDescription water reservoir\n",
      "westBoundingCoordinate -3.75\n",
      "eastBoundingCoordinate -2.375\n",
      "northBoundingCoordinate 42.0\n",
      "southBoundingCoordinate 40.875\n",
      "calendarDate 2010\n",
      "calendarDate 2010\n",
      "organizationName IFCA\n",
      "electronicMailAddress garciad@ifca.unican.es\n",
      "givenName Daniel\n",
      "surName Garcia\n",
      "deliveryPoint Avda Castros S/N\n",
      "city Santander\n",
      "postalCode 39005\n",
      "country Spain\n",
      "instrumentation CTD60M-Probe. It allows the simultaneous measurement of following parameters: Pressure (depth), temperature, conductivity, raw O2, REDOX, dissolved oxygen, pH, Oxigen Saturation, Salinity.\n",
      "title stationary measures\n",
      "para measures taken at a stationary depth of about 4 meters with a CTD 60. Measurements of physical, chemical and optical parameter.\n",
      "entityName AMT\n",
      "entityDescription Measurement of following parameters: Pressure (depth), temperature, conductivity, raw O2, REDOX, dissolved oxygen, pH, Oxigen Saturation, Salinity.\n",
      "objectName amt.csv\n",
      "size 4275737\n",
      "authentication f38ded28383d9f69af7cb9c98aed798b\n",
      "encodingMethod ASCII text\n",
      "characterEncoding us-ascii\n",
      "numHeaderLines 1\n",
      "numFooterLines 0\n",
      "attributeOrientation column\n",
      "recordDelimiter \\n\n",
      "physicalLineDelimiter \\n\n",
      "fieldDelimiter ;\n",
      "quoteCharacter \"\n",
      "url http://doriiie02.ifca.es/datasets/amt.csv\n",
      "title ROEM +\n",
      "personnel Agustin Monteoliva\n",
      "abstract Life + Project... eutrophication\n",
      "funding EC\n",
      "descriptor Ecology\n",
      "attributeName date\n",
      "attributeLabel date\n",
      "attributeDefinition date of measure\n",
      "storageType string\n",
      "formatString YYYY-MM-DD , hh:mm\n",
      "dateTimePrecision 1\n",
      "minimum 2010-01-01 , 00:00\n",
      "maximum 2016-12-31 , 23:59\n",
      "attributeName Temperature\n",
      "attributeLabel Temp\n",
      "attributeDefinition Temperature\n",
      "storageType double\n",
      "precision 0.01\n",
      "standardUnit celsius\n",
      "numberType real\n",
      "minimum -2.0\n",
      "maximum 32.0\n",
      "para This parameter is filtered from raw when value is less than -1.0 or higher than 35.0\n",
      "references 1827473819284\n",
      "para Temperature calibration\n",
      "description Calibration step for temperature\n",
      "attributeName Press\n",
      "attributeLabel Press\n",
      "attributeDefinition Press (Depth)\n",
      "storageType double\n",
      "precision 0.1\n",
      "customUnit dbar\n",
      "numberType real\n",
      "minimum 0\n",
      "maximum 50\n",
      "para Parameter is filtered when Press * 1.02 less than 0.0 or Press * 1.02 is higher than  30.0\n",
      "references 1827473819284\n",
      "attributeName Conductivity\n",
      "attributeLabel Cond\n",
      "attributeDefinition Conductivity of an electrolyte solution is a measure of its ability to conduct electricity. The SI unit of conductivity is siemens per meter (S/m).\n",
      "storageType double\n",
      "precision 0.005\n",
      "customUnit mS/cm\n",
      "numberType real\n",
      "minimum 0\n",
      "maximum 6\n",
      "para Parameter is filtered when is less than 0.0001 or higher than 0.3\n",
      "references 1827473819284\n",
      "attributeName Salinity\n",
      "attributeLabel Salinity\n",
      "attributeDefinition Salinity of water cannot be measured directly by one single sensor, it is calculated from the individual sensors for pressure, temperature and conductivity\n",
      "storageType Double\n",
      "precision 0.0001\n",
      "customUnit psu\n",
      "numberType real\n",
      "minimum 0\n",
      "maximum 0.1\n",
      "references 1827473819284\n",
      "attributeName Dissolved oxygen\n",
      "attributeLabel DO\n",
      "attributeDefinition Dissolved oxygen refers to the level of free\n",
      "storageType double\n",
      "precision 0.1\n",
      "standardUnit milligramsPerLiter\n",
      "numberType real\n",
      "minimum 0\n",
      "maximum 20\n",
      "para Parameter is filtered when is less than 0 and higher than 30\n",
      "references 1827473819284\n",
      "attributeName rawO2\n",
      "attributeLabel rawO2\n",
      "attributeDefinition dissolved oxygen\n",
      "storageType double\n",
      "precision 10\n",
      "standardUnit dimensionless\n",
      "numberType real\n",
      "minimum 0\n",
      "maximum 5000\n",
      "references 1827473819284\n",
      "attributeName Oxygen Saturation\n",
      "attributeLabel OxySat\n",
      "attributeDefinition relative measure of the amount of oxygen that is dissolved or carried in a given medium. %\n",
      "storageType double\n",
      "precision 1\n",
      "standardUnit dimensionless\n",
      "numberType real\n",
      "minimum 0\n",
      "maximum 120\n",
      "para Parameter is filtered when is less than 0  or higher than 200\n",
      "references 1827473819284\n",
      "attributeName ph\n",
      "attributeLabel ph\n",
      "attributeDefinition numeric scale used to specify the acidity or basicity\n",
      "storageType double\n",
      "precision 0.1\n",
      "standardUnit dimensionless\n",
      "numberType real\n",
      "minimum 4\n",
      "maximum 10\n",
      "para Parameter is filtered when is less tha 5 or higher than10\n",
      "references 1827473819284\n",
      "attributeName Redox\n",
      "attributeLabel redox\n",
      "attributeDefinition Redox\n",
      "storageType double\n",
      "precision 10\n",
      "standardUnit dimensionless\n",
      "numberType real\n",
      "minimum 0\n",
      "maximum 5000\n",
      "references 1827473819284\n",
      "title Peaks Detector\n",
      "license GPL\n",
      "version 1.0\n",
      "para Detects and filter peaks from parameters defined in a CSV file \n",
      "references 1465302104227\n",
      "programmingLanguage Python 2.7.3\n",
      "mediumName doriiie02 Server HDD\n",
      "description decibar, Units derived from the bar.\n",
      "description Conductivity of an electrolyte solution is a measure of its ability to conduct electricity. The SI unit of conductivity is siemens per meter (S/m).\n",
      "description practical salinity unit\n"
     ]
    }
   ],
   "source": [
    "tree = ET.parse('amt_prototype.xml')\n",
    "root = tree.getroot()\n",
    "\n",
    "for table in root.iter():\n",
    "    for child in table:\n",
    "        if len(child)==0:\n",
    "            print(child.tag, child.text)"
   ]
  },
  {
   "cell_type": "markdown",
   "metadata": {},
   "source": [
    "Explora un poco: Nombre del proyecto, autores, lista de atributos..."
   ]
  },
  {
   "cell_type": "code",
   "execution_count": 120,
   "metadata": {
    "scrolled": true
   },
   "outputs": [
    {
     "name": "stdout",
     "output_type": "stream",
     "text": [
      "attributeName: date\n"
     ]
    }
   ],
   "source": [
    "#elementos = tree.findall('/dataset[1]/creator/individualName/salutation')\n",
    "elementos = tree.findall('.//attributeList/attribute[@id=\"1465311292527\"]/attributeName')\n",
    "for e in elementos:\n",
    "    print(e.tag + \":\", e.text)"
   ]
  },
  {
   "cell_type": "code",
   "execution_count": 27,
   "metadata": {},
   "outputs": [
    {
     "name": "stdout",
     "output_type": "stream",
     "text": [
      "dataset:  \n",
      "\n",
      "dataset:  \n",
      "\n",
      "title: water reservoir of Cuerda del Pozo\n",
      "creator:  \n",
      "individualName: None\n",
      "salutation: Mr\n",
      "givenName: Jesus Marco\n",
      "surName: De Lucas\n",
      "organizationName: IFCA\n",
      "address: None\n",
      "deliveryPoint: Avda Castros s/n\n",
      "city: Santander\n",
      "postalCode: 39005\n",
      "country: Spain\n",
      "electronicMailAddress: marco@ifca.unican.es\n",
      "associatedParty: None\n",
      "individualName: None\n",
      "givenName: Fernando\n",
      "surName: Aguilar\n",
      "organizationName: IFCA\n",
      "address: None\n",
      "deliveryPoint: Avda Castros s/n\n",
      "city: Santander\n",
      "postalCode: 39005\n",
      "country: Spain\n",
      "electronicMailAddress: aguilarf@ifca.unican.es\n",
      "role: guardian\n",
      "abstract: None\n",
      "para: The CTD 60 is a precision probe for oceanographic and limnological measurements of physical, chemical and optical parameters up to a depth of 2000 m. It allows the simultaneous measurement of following parameters: Pressure (depth), temperature, conductivity, raw O2, REDOX, dissolved oxygen, pH, Oxigen Saturation, Salinity.\n",
      "keywordSet: None\n",
      "keyword: measure\n",
      "keyword: water reservoir\n",
      "keyword: sensor\n",
      "keyword: physical and chemical parameters\n",
      "coverage: None\n",
      "geographicCoverage: None\n",
      "geographicDescription: water reservoir\n",
      "boundingCoordinates: None\n",
      "westBoundingCoordinate: -3.75\n",
      "eastBoundingCoordinate: -2.375\n",
      "northBoundingCoordinate: 42.0\n",
      "southBoundingCoordinate: 40.875\n",
      "temporalCoverage: None\n",
      "rangeOfDates: None\n",
      "beginDate: None\n",
      "calendarDate: 2010\n",
      "endDate: None\n",
      "calendarDate: 2010\n",
      "contact: None\n",
      "individualName: None\n",
      "givenName: Daniel\n",
      "surName: Garcia\n",
      "organizationName: IFCA\n",
      "address: None\n",
      "deliveryPoint: Avda Castros S/N\n",
      "city: Santander\n",
      "postalCode: 39005\n",
      "country: Spain\n",
      "electronicMailAddress: garciad@ifca.unican.es\n",
      "methods: None\n",
      "methodStep: None\n",
      "description: None\n",
      "section: None\n",
      "title: stationary measures\n",
      "para: measures taken at a stationary depth of about 4 meters with a CTD 60. Measurements of physical, chemical and optical parameter.\n",
      "instrumentation: CTD60M-Probe. It allows the simultaneous measurement of following parameters: Pressure (depth), temperature, conductivity, raw O2, REDOX, dissolved oxygen, pH, Oxigen Saturation, Salinity.\n",
      "dataTable: None\n",
      "entityName: AMT\n",
      "entityDescription: Measurement of following parameters: Pressure (depth), temperature, conductivity, raw O2, REDOX, dissolved oxygen, pH, Oxigen Saturation, Salinity.\n",
      "physical: \n",
      "\n",
      "objectName: amt.csv\n",
      "size: 4275737\n",
      "authentication: f38ded28383d9f69af7cb9c98aed798b\n",
      "encodingMethod: ASCII text\n",
      "characterEncoding: us-ascii\n",
      "dataFormat:  \n",
      "\n",
      "textFormat: \n",
      "\n",
      "numHeaderLines: 1\n",
      "numFooterLines: 0\n",
      "attributeOrientation: column\n",
      "simpleDelimited: \n",
      "\n",
      "fieldDelimiter: ;\n",
      "quoteCharacter: \"\n",
      "recordDelimiter: \\n\n",
      "physicalLineDelimiter: \\n\n",
      "distribution: \n",
      "\n",
      "online: \n",
      "\n",
      "url: http://doriiie02.ifca.es/datasets/amt.csv\n",
      "project: \n",
      "\n",
      "researchProjectType: \n",
      "\n",
      "title: ROEM +\n",
      "personnel: Agustin Monteoliva\n",
      "abstract: Life + Project... eutrophication\n",
      "funding: EC\n",
      "studyAreaDescription: \n",
      "\n",
      "descriptor: Ecology\n",
      "attributeList: \n",
      "\n",
      "\n",
      "attribute: \n",
      "\n",
      "attributeName: date\n",
      "attributeLabel: date\n",
      "attributeDefinition: date of measure\n",
      "storageType: string\n",
      "measurementScale: \n",
      "\n",
      "dateTime: \n",
      "\n",
      "formatString: YYYY-MM-DD , hh:mm\n",
      "dateTimePrecision: 1\n",
      "dateTimeDomain: \n",
      " \n",
      "bounds: \n",
      "\n",
      "minimum: 2010-01-01 , 00:00\n",
      "maximum: 2016-12-31 , 23:59\n",
      "attribute: None\n",
      "attributeName: Temperature\n",
      "attributeLabel: Temp\n",
      "attributeDefinition: Temperature\n",
      "storageType: double\n",
      "measurementScale: \n",
      "\n",
      "ratio: \n",
      "\n",
      "unit: \n",
      "\n",
      "standardUnit: celsius\n",
      "precision: 0.01\n",
      "numericDomain: \n",
      "\n",
      "numberType: real\n",
      "bounds: \n",
      "\n",
      "minimum: -2.0\n",
      "maximum: 32.0\n",
      "method: \n",
      "\n",
      "qualityControl: \n",
      "\n",
      "description: \n",
      "\n",
      "para: This parameter is filtered from raw when value is less than -1.0 or higher than 35.0\n",
      "software: \n",
      "\n",
      "references: 1827473819284\n",
      "methodStep: \n",
      "\n",
      "description: \n",
      "\n",
      "para: Temperature calibration\n",
      "protocol: \n",
      "\n",
      "proceduralStep: \n",
      "\n",
      "description: Calibration step for temperature\n",
      "attribute: None\n",
      "attributeName: Press\n",
      "attributeLabel: Press\n",
      "attributeDefinition: Press (Depth)\n",
      "storageType: double\n",
      "measurementScale: None\n",
      "interval: None\n",
      "unit: None\n",
      "customUnit: dbar\n",
      "precision: 0.1\n",
      "numericDomain: None\n",
      "numberType: real\n",
      "bounds: None\n",
      "minimum: 0\n",
      "maximum: 50\n",
      "method: \n",
      "\n",
      "qualityControl: \n",
      "\n",
      "description: \n",
      "\n",
      "para: Parameter is filtered when Press * 1.02 less than 0.0 or Press * 1.02 is higher than  30.0\n",
      "software: \n",
      "\n",
      "references: 1827473819284\n",
      "attribute: None\n",
      "attributeName: Conductivity\n",
      "attributeLabel: Cond\n",
      "attributeDefinition: Conductivity of an electrolyte solution is a measure of its ability to conduct electricity. The SI unit of conductivity is siemens per meter (S/m).\n",
      "storageType: double\n",
      "measurementScale: None\n",
      "interval: None\n",
      "unit: None\n",
      "customUnit: mS/cm\n",
      "precision: 0.005\n",
      "numericDomain: None\n",
      "numberType: real\n",
      "bounds: None\n",
      "minimum: 0\n",
      "maximum: 6\n",
      "method: \n",
      "\n",
      "qualityControl: \n",
      "\n",
      "description: \n",
      "\n",
      "para: Parameter is filtered when is less than 0.0001 or higher than 0.3\n",
      "software: \n",
      "\n",
      "references: 1827473819284\n",
      "attribute: None\n",
      "attributeName: Salinity\n",
      "attributeLabel: Salinity\n",
      "attributeDefinition: Salinity of water cannot be measured directly by one single sensor, it is calculated from the individual sensors for pressure, temperature and conductivity\n",
      "storageType: Double\n",
      "measurementScale: None\n",
      "interval: None\n",
      "unit: None\n",
      "customUnit: psu\n",
      "precision: 0.0001\n",
      "numericDomain: None\n",
      "numberType: real\n",
      "bounds: None\n",
      "minimum: 0\n",
      "maximum: 0.1\n",
      "method: \n",
      "\n",
      "qualityControl: \n",
      "\n",
      "software: \n",
      "\n",
      "references: 1827473819284\n",
      "attribute: None\n",
      "attributeName: Dissolved oxygen\n",
      "attributeLabel: DO\n",
      "attributeDefinition: Dissolved oxygen refers to the level of free\n",
      "storageType: double\n",
      "measurementScale: None\n",
      "interval: None\n",
      "unit: None\n",
      "standardUnit: milligramsPerLiter\n",
      "precision: 0.1\n",
      "numericDomain: None\n",
      "numberType: real\n",
      "bounds: None\n",
      "minimum: 0\n",
      "maximum: 20\n",
      "method: \n",
      "\n",
      "qualityControl: \n",
      "\n",
      "description: \n",
      "\n",
      "para: Parameter is filtered when is less than 0 and higher than 30\n",
      "software: \n",
      "\n",
      "references: 1827473819284\n",
      "attribute: None\n",
      "attributeName: rawO2\n",
      "attributeLabel: rawO2\n",
      "attributeDefinition: dissolved oxygen\n",
      "storageType: double\n",
      "measurementScale: None\n",
      "interval: None\n",
      "unit: None\n",
      "standardUnit: dimensionless\n",
      "precision: 10\n",
      "numericDomain: None\n",
      "numberType: real\n",
      "bounds: None\n",
      "minimum: 0\n",
      "maximum: 5000\n",
      "method: \n",
      "\n",
      "qualityControl: \n",
      "\n",
      "software: \n",
      "\n",
      "references: 1827473819284\n",
      "attribute: None\n",
      "attributeName: Oxygen Saturation\n",
      "attributeLabel: OxySat\n",
      "attributeDefinition: relative measure of the amount of oxygen that is dissolved or carried in a given medium. %\n",
      "storageType: double\n",
      "measurementScale: None\n",
      "ratio: None\n",
      "unit: None\n",
      "standardUnit: dimensionless\n",
      "precision: 1\n",
      "numericDomain: None\n",
      "numberType: real\n",
      "bounds: None\n",
      "minimum: 0\n",
      "maximum: 120\n",
      "method: \n",
      "\n",
      "qualityControl: \n",
      "\n",
      "description: \n",
      "\n",
      "para: Parameter is filtered when is less than 0  or higher than 200\n",
      "software: \n",
      "\n",
      "references: 1827473819284\n",
      "attribute: None\n",
      "attributeName: ph\n",
      "attributeLabel: ph\n",
      "attributeDefinition: numeric scale used to specify the acidity or basicity\n",
      "storageType: double\n",
      "measurementScale: None\n",
      "ratio: None\n",
      "unit: None\n",
      "standardUnit: dimensionless\n",
      "precision: 0.1\n",
      "numericDomain: None\n",
      "numberType: real\n",
      "bounds: None\n",
      "minimum: 4\n",
      "maximum: 10\n",
      "method: \n",
      "\n",
      "qualityControl: \n",
      "\n",
      "description: \n",
      "\n",
      "para: Parameter is filtered when is less tha 5 or higher than10\n",
      "software: \n",
      "\n",
      "references: 1827473819284\n",
      "attribute: None\n",
      "attributeName: Redox\n",
      "attributeLabel: redox\n",
      "attributeDefinition: Redox\n",
      "storageType: double\n",
      "measurementScale: None\n",
      "interval: None\n",
      "unit: None\n",
      "standardUnit: dimensionless\n",
      "precision: 10\n",
      "numericDomain: None\n",
      "numberType: real\n",
      "bounds: None\n",
      "minimum: 0\n",
      "maximum: 5000\n",
      "method: \n",
      "\n",
      "qualityControl: \n",
      "\n",
      "software: \n",
      "\n",
      "references: 1827473819284\n"
     ]
    }
   ],
   "source": [
    "elementos = tree.findall('.//dataset')\n",
    "for e in elementos:\n",
    "    print(e.tag + \":\", e.text)\n",
    "    for i in e.iter():\n",
    "        print(i.tag + \":\", i.text)"
   ]
  },
  {
   "cell_type": "code",
   "execution_count": 28,
   "metadata": {},
   "outputs": [
    {
     "name": "stdout",
     "output_type": "stream",
     "text": [
      "description practical salinity unit\n"
     ]
    }
   ],
   "source": [
    "dataset = ET.SubElement(root,'dataset')\n",
    "for table in dataset.iter():\n",
    "    print(child.tag, child.text)"
   ]
  },
  {
   "cell_type": "markdown",
   "metadata": {},
   "source": [
    "# Ejercicio personal"
   ]
  },
  {
   "cell_type": "markdown",
   "metadata": {},
   "source": [
    "## Ejercicio 1"
   ]
  },
  {
   "cell_type": "markdown",
   "metadata": {},
   "source": [
    "A partir del ejemplo completo del esquema de metadatos de DataCite, muestra por pantalla los elementos que sean equivalentes a los propuestos por Dublin Core (cada uno en una línea). Es posible que tengas que combinar en uno varios campos del archivo de metadatos (Por ejemplo, en coverage las coordenadas + el nombre).\n",
    "\n",
    "* Title: \n",
    "* Creator: \n",
    "* Subject:  \n",
    "* Description: \n",
    "* Publisher: \n",
    "* Contributor:\n",
    "* Date: \n",
    "* Type: \n",
    "* Format: \n",
    "* Identifier: \n",
    "* Source: \n",
    "* Language:\n",
    "* Relation:\n",
    "* Coverage:  \n",
    "* Rights:\n",
    "\n",
    "Recurso: https://schema.datacite.org/meta/kernel-3.1/example/datacite-example-full-v3.1.xml"
   ]
  },
  {
   "cell_type": "code",
   "execution_count": 40,
   "metadata": {},
   "outputs": [],
   "source": [
    "import requests\n",
    "\n",
    "response = requests.get('https://schema.datacite.org/meta/kernel-3.1/example/datacite-example-full-v3.1.xml')\n",
    "if response.status_code == 200:\n",
    "    with open(\"./datacite-example.xml\", 'wb') as f:\n",
    "        f.write(response.content)"
   ]
  },
  {
   "cell_type": "code",
   "execution_count": 41,
   "metadata": {},
   "outputs": [],
   "source": [
    "#Creo una función para en los que introduzco el árbol y la etiqueta que quiero buscar.\n",
    "#De esta forma me evito tener que reperir el mismo código en cada etiqueta\n",
    "def get_datacite_params(tree, xmldata, tag):\n",
    "    datacite_tag = xmldata + tag\n",
    "    params = \"\"\n",
    "    \n",
    "    for table in tree.iter(datacite_tag):        \n",
    "        if len(table) > 0: #Si la longitud es mayor que 0 es que tiene hijos\n",
    "            for i in range(0,len(table)):\n",
    "                child = table[i]\n",
    "                if(i < len(table) - 1): #Si no es el último elemento le pongo una coma\n",
    "                    if(child.text.strip() != \"\"): #Si el contenido está vacío significa que tiene un hijo con el nombre\n",
    "                        params += child.text + \", \"\n",
    "                    else:\n",
    "                        for child2 in child.iter():\n",
    "                            if(\"Name\" in child2.tag.__str__()):\n",
    "                                params += child2.text + \", \"\n",
    "                else:\n",
    "                    if(child.text.strip() != \"\"):\n",
    "                        params += child.text\n",
    "                    else:\n",
    "                        for child2 in child.iter():\n",
    "                            if(\"Name\" in child2.tag.__str__()):\n",
    "                                params += child2.text\n",
    "        else:\n",
    "            params = table.text\n",
    "    return params "
   ]
  },
  {
   "cell_type": "code",
   "execution_count": 42,
   "metadata": {},
   "outputs": [
    {
     "name": "stdout",
     "output_type": "stream",
     "text": [
      "Title: Full DataCite XML Example, Demonstration of DataCite Properties.\n",
      "Creator: Miller, Elizabeth\n",
      "Subject: 000 computer science\n",
      "Description: \n",
      "            XML example of all DataCite Metadata Schema v3.1 properties.\n",
      "        \n",
      "Publisher: DataCite\n",
      "Contributor: Starr, Joan\n",
      "Date: 2014-10-17\n",
      "Type: XML\n",
      "Format: application/xml\n",
      "Identifier: 10.5072/example-full\n",
      "Source: \n",
      "Language: en-us\n",
      "Relation: \n",
      "Coverage: \n",
      "Rights: CC0 1.0 Universal\n"
     ]
    }
   ],
   "source": [
    "import xml.etree.ElementTree as ET\n",
    "tree = ET.parse('datacite-example.xml')\n",
    "xmldata = '{http://datacite.org/schema/kernel-3}'\n",
    "\n",
    "print(\"Title:\", get_datacite_params(tree, xmldata, 'titles'))\n",
    "print(\"Creator:\", get_datacite_params(tree, xmldata, 'creators'))   \n",
    "print(\"Subject:\", get_datacite_params(tree, xmldata, 'subjects'))   \n",
    "print(\"Description:\", get_datacite_params(tree, xmldata, 'descriptions'))\n",
    "print(\"Publisher:\", get_datacite_params(tree, xmldata, 'publisher'))\n",
    "print(\"Contributor:\", get_datacite_params(tree, xmldata, 'contributors'))\n",
    "print(\"Date:\", get_datacite_params(tree, xmldata, 'dates'))\n",
    "print(\"Type:\", get_datacite_params(tree, xmldata, 'resourceType'))\n",
    "print(\"Format:\", get_datacite_params(tree, xmldata, 'formats'))\n",
    "print(\"Identifier:\", get_datacite_params(tree, xmldata, 'identifier'))\n",
    "print(\"Source:\", get_datacite_params(tree, xmldata, 'source')) \n",
    "print(\"Language:\", get_datacite_params(tree, xmldata, 'language'))  \n",
    "print(\"Relation:\", get_datacite_params(tree, xmldata, 'relation'))  \n",
    "print(\"Coverage:\", get_datacite_params(tree, xmldata, 'coverage'))  \n",
    "print(\"Rights:\", get_datacite_params(tree, xmldata, 'rightsList'))     "
   ]
  },
  {
   "cell_type": "markdown",
   "metadata": {},
   "source": [
    "## Ejercicio 2"
   ]
  },
  {
   "cell_type": "markdown",
   "metadata": {},
   "source": [
    "Haz un listado de todas las etiquetas del documento XML con sus atributos (si lo tienen)"
   ]
  },
  {
   "cell_type": "code",
   "execution_count": 44,
   "metadata": {},
   "outputs": [
    {
     "name": "stdout",
     "output_type": "stream",
     "text": [
      "{http://datacite.org/schema/kernel-3}resource\n",
      "{http://datacite.org/schema/kernel-3}identifier 10.5072/example-full\n",
      "- identifierType: DOI\n",
      "{http://datacite.org/schema/kernel-3}publisher DataCite\n",
      "{http://datacite.org/schema/kernel-3}publicationYear 2014\n",
      "{http://datacite.org/schema/kernel-3}language en-us\n",
      "{http://datacite.org/schema/kernel-3}resourceType XML\n",
      "- resourceTypeGeneral: Software\n",
      "{http://datacite.org/schema/kernel-3}version 3.1\n",
      "{http://datacite.org/schema/kernel-3}identifier\n",
      "{http://datacite.org/schema/kernel-3}creators\n",
      "{http://datacite.org/schema/kernel-3}creator\n",
      "{http://datacite.org/schema/kernel-3}creatorName Miller, Elizabeth\n",
      "{http://datacite.org/schema/kernel-3}nameIdentifier 0000-0001-5000-0007\n",
      "- schemeURI: http://orcid.org/\n",
      "- nameIdentifierScheme: ORCID\n",
      "{http://datacite.org/schema/kernel-3}affiliation DataCite\n",
      "{http://datacite.org/schema/kernel-3}creatorName\n",
      "{http://datacite.org/schema/kernel-3}nameIdentifier\n",
      "{http://datacite.org/schema/kernel-3}affiliation\n",
      "{http://datacite.org/schema/kernel-3}titles\n",
      "{http://datacite.org/schema/kernel-3}title Full DataCite XML Example\n",
      "- {http://www.w3.org/XML/1998/namespace}lang: en-us\n",
      "{http://datacite.org/schema/kernel-3}title Demonstration of DataCite Properties.\n",
      "- {http://www.w3.org/XML/1998/namespace}lang: en-us\n",
      "- titleType: Subtitle\n",
      "{http://datacite.org/schema/kernel-3}title\n",
      "{http://datacite.org/schema/kernel-3}title\n",
      "{http://datacite.org/schema/kernel-3}publisher\n",
      "{http://datacite.org/schema/kernel-3}publicationYear\n",
      "{http://datacite.org/schema/kernel-3}subjects\n",
      "{http://datacite.org/schema/kernel-3}subject 000 computer science\n",
      "- {http://www.w3.org/XML/1998/namespace}lang: en-us\n",
      "- schemeURI: http://dewey.info/\n",
      "- subjectScheme: dewey\n",
      "{http://datacite.org/schema/kernel-3}subject\n",
      "{http://datacite.org/schema/kernel-3}contributors\n",
      "{http://datacite.org/schema/kernel-3}contributor\n",
      "{http://datacite.org/schema/kernel-3}contributorName Starr, Joan\n",
      "{http://datacite.org/schema/kernel-3}nameIdentifier 0000-0002-7285-027X\n",
      "- schemeURI: http://orcid.org/\n",
      "- nameIdentifierScheme: ORCID\n",
      "{http://datacite.org/schema/kernel-3}affiliation California Digital Library\n",
      "{http://datacite.org/schema/kernel-3}contributorName\n",
      "{http://datacite.org/schema/kernel-3}nameIdentifier\n",
      "{http://datacite.org/schema/kernel-3}affiliation\n",
      "{http://datacite.org/schema/kernel-3}dates\n",
      "{http://datacite.org/schema/kernel-3}date 2014-10-17\n",
      "- dateType: Updated\n",
      "{http://datacite.org/schema/kernel-3}date\n",
      "{http://datacite.org/schema/kernel-3}language\n",
      "{http://datacite.org/schema/kernel-3}resourceType\n",
      "{http://datacite.org/schema/kernel-3}alternateIdentifiers\n",
      "{http://datacite.org/schema/kernel-3}alternateIdentifier http://schema.datacite.org/schema/meta/kernel-3.1/example/datacite-example-full-v3.1.xml\n",
      "- alternateIdentifierType: URL\n",
      "{http://datacite.org/schema/kernel-3}alternateIdentifier\n",
      "{http://datacite.org/schema/kernel-3}relatedIdentifiers\n",
      "{http://datacite.org/schema/kernel-3}relatedIdentifier http://data.datacite.org/application/citeproc+json/10.5072/example-full\n",
      "- relatedIdentifierType: URL\n",
      "- relationType: HasMetadata\n",
      "- relatedMetadataScheme: citeproc+json\n",
      "- schemeURI: https://github.com/citation-style-language/schema/raw/master/csl-data.json\n",
      "{http://datacite.org/schema/kernel-3}relatedIdentifier arXiv:0706.0001\n",
      "- relatedIdentifierType: arXiv\n",
      "- relationType: IsReviewedBy\n",
      "{http://datacite.org/schema/kernel-3}relatedIdentifier\n",
      "{http://datacite.org/schema/kernel-3}relatedIdentifier\n",
      "{http://datacite.org/schema/kernel-3}sizes\n",
      "{http://datacite.org/schema/kernel-3}size 3KB\n",
      "{http://datacite.org/schema/kernel-3}size\n",
      "{http://datacite.org/schema/kernel-3}formats\n",
      "{http://datacite.org/schema/kernel-3}format application/xml\n",
      "{http://datacite.org/schema/kernel-3}format\n",
      "{http://datacite.org/schema/kernel-3}version\n",
      "{http://datacite.org/schema/kernel-3}rightsList\n",
      "{http://datacite.org/schema/kernel-3}rights CC0 1.0 Universal\n",
      "- rightsURI: http://creativecommons.org/publicdomain/zero/1.0/\n",
      "{http://datacite.org/schema/kernel-3}rights\n",
      "{http://datacite.org/schema/kernel-3}descriptions\n",
      "{http://datacite.org/schema/kernel-3}description \n",
      "            XML example of all DataCite Metadata Schema v3.1 properties.\n",
      "        \n",
      "- {http://www.w3.org/XML/1998/namespace}lang: en-us\n",
      "- descriptionType: Abstract\n",
      "{http://datacite.org/schema/kernel-3}description\n",
      "{http://datacite.org/schema/kernel-3}geoLocations\n",
      "{http://datacite.org/schema/kernel-3}geoLocation\n",
      "{http://datacite.org/schema/kernel-3}geoLocationPoint 31.233 -67.302\n",
      "{http://datacite.org/schema/kernel-3}geoLocationBox 41.090 -71.032  42.893 -68.211\n",
      "{http://datacite.org/schema/kernel-3}geoLocationPlace Atlantic Ocean\n",
      "{http://datacite.org/schema/kernel-3}geoLocationPoint\n",
      "{http://datacite.org/schema/kernel-3}geoLocationBox\n",
      "{http://datacite.org/schema/kernel-3}geoLocationPlace\n"
     ]
    }
   ],
   "source": [
    "root = tree.getroot()\n",
    "\n",
    "for table in root.iter():\n",
    "    print(table.tag) #Pinto cada etiqueta padre\n",
    "    for child in table:\n",
    "        if len(child)==0:\n",
    "            print(child.tag, child.text) #Pinto cada etiqueta hijo\n",
    "            for attribute, value in child.attrib.items():\n",
    "                print(f\"- {attribute}: {value}\") #Pinto cada atributo de cada etiqueta hijo"
   ]
  },
  {
   "cell_type": "markdown",
   "metadata": {},
   "source": [
    "## Ejercicio 3"
   ]
  },
  {
   "cell_type": "markdown",
   "metadata": {},
   "source": [
    "Muestra los distintos identificadores que tiene ese documento de este modo: Identificador [tipo] = [identificador]\n",
    "\n",
    "Ejemplo: Identificador DOI = 10.3122/121321"
   ]
  },
  {
   "cell_type": "code",
   "execution_count": 45,
   "metadata": {},
   "outputs": [
    {
     "name": "stdout",
     "output_type": "stream",
     "text": [
      "Identificador DOI 10.5072/example-full\n",
      "Identificador URL http://schema.datacite.org/schema/meta/kernel-3.1/example/datacite-example-full-v3.1.xml\n",
      "Identificador URL http://data.datacite.org/application/citeproc+json/10.5072/example-full\n",
      "Identificador arXiv arXiv:0706.0001\n"
     ]
    }
   ],
   "source": [
    "for table in tree.iter(): #Itero en cada etiqueta padre\n",
    "    if('identifier' in table.tag.lower()): #Si el nombre de la etiqueta contiene la palabra 'identifier' se trata\n",
    "        for attrib in table.attrib:\n",
    "            if('identifiertype' in attrib.__str__().lower()): #Se busca el atributo 'identifiertype' de la etiqueta\n",
    "                value = table.attrib.get(attrib)\n",
    "                print('Identificador', value, table.text)"
   ]
  },
  {
   "cell_type": "markdown",
   "metadata": {},
   "source": [
    "## Ejercicio 4"
   ]
  },
  {
   "cell_type": "markdown",
   "metadata": {},
   "source": [
    "Modifica el documento XML \"amt_prototype.xml\" para que todos los atributos incluyan su unidad (completa si es necesario).\n",
    "\n",
    "Una vez editado, muestra la lista de atributos con su unidad. \n",
    "\n",
    "Ejemplo:\n",
    "\n",
    "\"Atribute: Salinity | Unit: psu\""
   ]
  },
  {
   "cell_type": "code",
   "execution_count": 47,
   "metadata": {},
   "outputs": [
    {
     "name": "stdout",
     "output_type": "stream",
     "text": [
      "Attribute: date | Unit: None\n",
      "Attribute: Temperature | Unit: celsius\n",
      "Attribute: Press | Unit: dbar\n",
      "Attribute: Conductivity | Unit: mS/cm\n",
      "Attribute: Salinity | Unit: psu\n",
      "Attribute: Dissolved oxygen | Unit: milligramsPerLiter\n",
      "Attribute: rawO2 | Unit: dimensionless\n",
      "Attribute: Oxygen Saturation | Unit: dimensionless\n",
      "Attribute: ph | Unit: dimensionless\n",
      "Attribute: Redox | Unit: dimensionless\n"
     ]
    }
   ],
   "source": [
    "#El documento tiene ya las unidades que le corresponden a cada atributo\n",
    "tree = ET.parse('amt_prototype.xml')\n",
    "\n",
    "elementos = tree.findall('.//attribute') #Busco cada etiqueta de nombre atributo\n",
    "for attrib in elementos:\n",
    "    name = attrib.find('attributeName').text #Busco el 'attributeName' de las etiquetas 'atributo' y lo establezco como nombre\n",
    "    unitElement = attrib.find('.//unit') #Busco la etiqueta 'unit' dentro de la etiqueta 'atributo'\n",
    "    if(unitElement is not None): #Si el atributo tiene una etiqueta 'unit', se utiliza la etiqueta hijo de 'unit' para establecerla como unidad\n",
    "        for unit in unitElement:\n",
    "            unit = unit.text\n",
    "    else:\n",
    "        unit = 'None' #Si no tiene etiqueta 'unit' escribo 'None'\n",
    "    print(\"Attribute:\", name, \"| Unit:\", unit)"
   ]
  }
 ],
 "metadata": {
  "kernelspec": {
   "display_name": "Python 3 (ipykernel)",
   "language": "python",
   "name": "python3"
  },
  "language_info": {
   "codemirror_mode": {
    "name": "ipython",
    "version": 3
   },
   "file_extension": ".py",
   "mimetype": "text/x-python",
   "name": "python",
   "nbconvert_exporter": "python",
   "pygments_lexer": "ipython3",
   "version": "3.11.6"
  }
 },
 "nbformat": 4,
 "nbformat_minor": 4
}
